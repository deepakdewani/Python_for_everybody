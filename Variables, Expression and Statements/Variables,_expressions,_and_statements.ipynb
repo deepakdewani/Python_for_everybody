{
  "nbformat": 4,
  "nbformat_minor": 0,
  "metadata": {
    "colab": {
      "name": "Variables, expressions, and statements.ipynb",
      "provenance": [],
      "collapsed_sections": [],
      "authorship_tag": "ABX9TyNZE/Vj0VOUqmfsAtbvXtEd",
      "include_colab_link": true
    },
    "kernelspec": {
      "name": "python3",
      "display_name": "Python 3"
    },
    "language_info": {
      "name": "python"
    }
  },
  "cells": [
    {
      "cell_type": "markdown",
      "metadata": {
        "id": "view-in-github",
        "colab_type": "text"
      },
      "source": [
        "<a href=\"https://colab.research.google.com/github/deepak-dewani/Python-for-everybody/blob/main/Variables%2C_expressions%2C_and_statements.ipynb\" target=\"_parent\"><img src=\"https://colab.research.google.com/assets/colab-badge.svg\" alt=\"Open In Colab\"/></a>"
      ]
    },
    {
      "cell_type": "markdown",
      "source": [
        "# **Chapter - Python for Everybody**"
      ],
      "metadata": {
        "id": "TbR-TGwrdafo"
      }
    },
    {
      "cell_type": "markdown",
      "source": [
        "# **Variables, expressions, and statements**\n",
        "**Values and types**\n",
        "\n",
        "A value is one of the basic things a program works with, like a letter or a number. The values we have seen so far are 1, 2, and “Hello, World!”\n",
        "\n",
        "These values belong to different types: 2 is an integer, and “Hello, World!” is a string, so called because it contains a “string” of letters. You (and the interpreter) can identify strings because they are enclosed in quotation marks."
      ],
      "metadata": {
        "id": "XeYpUPaLX8gv"
      }
    },
    {
      "cell_type": "code",
      "execution_count": 1,
      "metadata": {
        "colab": {
          "base_uri": "https://localhost:8080/"
        },
        "id": "4HYzHAWGX1vi",
        "outputId": "5cef11df-c45e-4a86-9fdc-41f33ee7b8b0"
      },
      "outputs": [
        {
          "output_type": "stream",
          "name": "stdout",
          "text": [
            "27\n"
          ]
        }
      ],
      "source": [
        "a = '27'\n",
        "print(a)"
      ]
    },
    {
      "cell_type": "markdown",
      "source": [
        "**Checking the type of variable**\n",
        "\n",
        "If you are not sure what type a value has, the interpreter can tell you."
      ],
      "metadata": {
        "id": "6NXxnX5mYXWm"
      }
    },
    {
      "cell_type": "code",
      "source": [
        "b = '123'\n",
        "print(b)\n",
        "print(type(b))"
      ],
      "metadata": {
        "colab": {
          "base_uri": "https://localhost:8080/"
        },
        "id": "DPnsEWAQYWFG",
        "outputId": "d411c7ed-282b-4ee1-dbe8-b2d45d58595a"
      },
      "execution_count": null,
      "outputs": [
        {
          "output_type": "stream",
          "name": "stdout",
          "text": [
            "123\n",
            "<class 'str'>\n"
          ]
        }
      ]
    },
    {
      "cell_type": "code",
      "source": [
        "b = 123\n",
        "print(b)\n",
        "print(type(b))"
      ],
      "metadata": {
        "colab": {
          "base_uri": "https://localhost:8080/"
        },
        "id": "VnzpS832YomL",
        "outputId": "6c3dabd8-93d0-41a4-8a56-ddced35a9fd4"
      },
      "execution_count": null,
      "outputs": [
        {
          "output_type": "stream",
          "name": "stdout",
          "text": [
            "123\n",
            "<class 'int'>\n"
          ]
        }
      ]
    },
    {
      "cell_type": "code",
      "source": [
        "type(30.2)"
      ],
      "metadata": {
        "colab": {
          "base_uri": "https://localhost:8080/"
        },
        "id": "WG7OAw-ZY3S8",
        "outputId": "38406548-40a7-4407-be40-965204d8bff0"
      },
      "execution_count": null,
      "outputs": [
        {
          "output_type": "execute_result",
          "data": {
            "text/plain": [
              "float"
            ]
          },
          "metadata": {},
          "execution_count": 5
        }
      ]
    },
    {
      "cell_type": "code",
      "source": [
        "type(True)"
      ],
      "metadata": {
        "colab": {
          "base_uri": "https://localhost:8080/"
        },
        "id": "PE_jSA51Y88C",
        "outputId": "2aac2b20-ebce-48e9-ccea-e3c5b64dc8c4"
      },
      "execution_count": null,
      "outputs": [
        {
          "output_type": "execute_result",
          "data": {
            "text/plain": [
              "bool"
            ]
          },
          "metadata": {},
          "execution_count": 7
        }
      ]
    },
    {
      "cell_type": "markdown",
      "source": [
        "# **Variables**\n",
        "One of the most powerful features of a programming language is the ability to manipulate variables. A variable is a name that refers to a value.\n",
        "\n",
        "An assignment statement creates new variables and gives them values:"
      ],
      "metadata": {
        "id": "ulrxl9vtZIeP"
      }
    },
    {
      "cell_type": "code",
      "source": [
        "message = 'And now for something completely different'\n",
        "n = 18\n",
        "pi = 22/7"
      ],
      "metadata": {
        "id": "xOO04ZplY_TL"
      },
      "execution_count": null,
      "outputs": []
    },
    {
      "cell_type": "code",
      "source": [
        "print(n)\n",
        "print(pi)\n",
        "print(message)"
      ],
      "metadata": {
        "colab": {
          "base_uri": "https://localhost:8080/"
        },
        "id": "H5oamFEmZdIW",
        "outputId": "b0fbc182-149f-40f0-c7fa-172af00fc1f8"
      },
      "execution_count": null,
      "outputs": [
        {
          "output_type": "stream",
          "name": "stdout",
          "text": [
            "18\n",
            "3.142857142857143\n",
            "And now for something completely different\n"
          ]
        }
      ]
    },
    {
      "cell_type": "markdown",
      "source": [
        "The type of a variable is the type of the value it refers to."
      ],
      "metadata": {
        "id": "1LDiBBETZ586"
      }
    },
    {
      "cell_type": "code",
      "source": [
        "print(type(n))\n",
        "print(type(pi))\n",
        "print(type(message))"
      ],
      "metadata": {
        "colab": {
          "base_uri": "https://localhost:8080/"
        },
        "id": "jrUhIaHZZx1F",
        "outputId": "0ca94f19-3db3-47ca-95a3-be146d293115"
      },
      "execution_count": null,
      "outputs": [
        {
          "output_type": "stream",
          "name": "stdout",
          "text": [
            "<class 'int'>\n",
            "<class 'float'>\n",
            "<class 'str'>\n"
          ]
        }
      ]
    },
    {
      "cell_type": "markdown",
      "source": [
        "# **Statements**\n",
        "A statement is a unit of code that the Python interpreter can execute. We have seen two kinds of statements: print being an expression statement and assignment.\n",
        "\n",
        "When you type a statement in interactive mode, the interpreter executes it and displays the result, if there is one.\n",
        "\n",
        "A script usually contains a sequence of statements. If there is more than one statement, the results appear one at a time as the statements execute."
      ],
      "metadata": {
        "id": "PZT2OkL4aUKs"
      }
    },
    {
      "cell_type": "code",
      "source": [
        "x =2\n",
        "x= x+2\n",
        "print(x)"
      ],
      "metadata": {
        "colab": {
          "base_uri": "https://localhost:8080/"
        },
        "id": "IGkL2HMnaBh9",
        "outputId": "fc4b4ad3-d02c-4755-bbe6-a62a3870fdf4"
      },
      "execution_count": null,
      "outputs": [
        {
          "output_type": "stream",
          "name": "stdout",
          "text": [
            "4\n"
          ]
        }
      ]
    },
    {
      "cell_type": "markdown",
      "source": [
        "# **Operators and operands**\n",
        "Operators are special symbols that represent computations like addition and multiplication. The values the operator is applied to are called operands.\n",
        "\n",
        "The operators +, -, *, /, and ** perform addition, subtraction, multiplication, division, and exponentiation, as in the following examples:"
      ],
      "metadata": {
        "id": "65P69MraamKH"
      }
    },
    {
      "cell_type": "code",
      "source": [
        "x = '12345'\n",
        "x = int(x)\n",
        "\n",
        "y = x + 2\n",
        "print(y)\n",
        "type(y)"
      ],
      "metadata": {
        "colab": {
          "base_uri": "https://localhost:8080/"
        },
        "id": "RSgPQO7aag0U",
        "outputId": "ef5f63e0-d07f-4257-e593-8b9468690a72"
      },
      "execution_count": null,
      "outputs": [
        {
          "output_type": "stream",
          "name": "stdout",
          "text": [
            "12347\n"
          ]
        },
        {
          "output_type": "execute_result",
          "data": {
            "text/plain": [
              "int"
            ]
          },
          "metadata": {},
          "execution_count": 14
        }
      ]
    },
    {
      "cell_type": "code",
      "source": [
        "x =121\n",
        "x = x - 2\n",
        "print(x)\n",
        "print(type(x))"
      ],
      "metadata": {
        "colab": {
          "base_uri": "https://localhost:8080/"
        },
        "id": "jqRQokPha1Aq",
        "outputId": "5978af75-1c44-4d28-eeb7-f551de6678ff"
      },
      "execution_count": null,
      "outputs": [
        {
          "output_type": "stream",
          "name": "stdout",
          "text": [
            "119\n",
            "<class 'int'>\n"
          ]
        }
      ]
    },
    {
      "cell_type": "code",
      "source": [
        "In_a_hours = 1\n",
        "In_a_hours_minutes = 60*1\n",
        "In_a_hours_minutes_seconds = 60*60*1\n",
        "\n",
        "print(In_a_hours , \"Hour\")\n",
        "print(In_a_hours_minutes, \"minutes\")\n",
        "print(In_a_hours_minutes_seconds, \"Seconds\")\n"
      ],
      "metadata": {
        "colab": {
          "base_uri": "https://localhost:8080/"
        },
        "id": "v_Q28sWBa8h5",
        "outputId": "e5c85fc0-06ec-40d6-ad92-de7975bddfdd"
      },
      "execution_count": null,
      "outputs": [
        {
          "output_type": "stream",
          "name": "stdout",
          "text": [
            "1 Hour\n",
            "60 minutes\n",
            "3600 Seconds\n"
          ]
        }
      ]
    },
    {
      "cell_type": "markdown",
      "source": [
        "# **Expressions**\n",
        "An expression is a combination of values, variables, and operators. A value all by itself is considered an expression, and so is a variable, so the following are all legal expressions (assuming that the variable x has been assigned a value):"
      ],
      "metadata": {
        "id": "kM4_sCnucGDM"
      }
    },
    {
      "cell_type": "code",
      "source": [
        "x =2\n",
        "x= x+2\n",
        "print(x)"
      ],
      "metadata": {
        "colab": {
          "base_uri": "https://localhost:8080/"
        },
        "id": "6JA_fkA1bgeJ",
        "outputId": "91d1bf33-1873-4b6c-9341-1be136a5a20a"
      },
      "execution_count": null,
      "outputs": [
        {
          "output_type": "stream",
          "name": "stdout",
          "text": [
            "4\n"
          ]
        }
      ]
    },
    {
      "cell_type": "markdown",
      "source": [
        "# **Order of operations**\n",
        "When more than one operator appears in an expression, the order of evaluation depends on the rules of precedence. For mathematical operators, Python follows mathematical convention. The acronym PEMDAS is a useful way to remember the rules:\n",
        "\n",
        "**Parentheses**\n",
        "\n",
        "**Exponentiation**\n",
        "\n",
        "**Multiplication** and **Division** have the same precedence, which is higher than **Addition** and **Subtraction**, which also have the same precedence.\n",
        "\n",
        "Operators with the same precedence are evaluated from left to right.\n",
        "\n",
        "When in doubt, always put parentheses in your expressions to make sure the computations are performed in the order you intend."
      ],
      "metadata": {
        "id": "93NwOP91cZUJ"
      }
    },
    {
      "cell_type": "code",
      "source": [
        "x = 1 + (5/7) * 2 - 3**2 + 126\n",
        "print(x)"
      ],
      "metadata": {
        "colab": {
          "base_uri": "https://localhost:8080/"
        },
        "id": "8pAr1zmScPmd",
        "outputId": "5f293dbc-25d7-4d05-ba46-bd7e28078666"
      },
      "execution_count": null,
      "outputs": [
        {
          "output_type": "stream",
          "name": "stdout",
          "text": [
            "119.42857142857143\n"
          ]
        }
      ]
    },
    {
      "cell_type": "markdown",
      "source": [
        "# **Modulus operator**\n",
        "The modulus operator works on integers and yields the remainder when the first operand is divided by the second. In Python, the modulus operator is a percent sign (%). The syntax is the same as for other operators:"
      ],
      "metadata": {
        "id": "EGJ1-MKIrC5e"
      }
    },
    {
      "cell_type": "code",
      "source": [
        "q = 7/3\n",
        "print(q)"
      ],
      "metadata": {
        "colab": {
          "base_uri": "https://localhost:8080/"
        },
        "id": "fmnhfdAkq8iw",
        "outputId": "a7ed80cc-b0a7-4a29-f046-e9e03483ecad"
      },
      "execution_count": null,
      "outputs": [
        {
          "output_type": "stream",
          "name": "stdout",
          "text": [
            "2.3333333333333335\n"
          ]
        }
      ]
    },
    {
      "cell_type": "code",
      "source": [
        "r = 7%3\n",
        "print(r)                          # % will give us the remainder\n",
        "\n"
      ],
      "metadata": {
        "colab": {
          "base_uri": "https://localhost:8080/"
        },
        "id": "YdPEy1YtrdFZ",
        "outputId": "38c4f41e-8105-4d91-e303-a057f15e721c"
      },
      "execution_count": null,
      "outputs": [
        {
          "output_type": "stream",
          "name": "stdout",
          "text": [
            "1\n"
          ]
        }
      ]
    },
    {
      "cell_type": "markdown",
      "source": [
        "# **String operations**\n",
        "# **Concatenation in python**\n",
        "\n",
        "The + operator works with strings, but it is not addition in the mathematical sense. Instead it performs concatenation, which means joining the strings by linking them end to end. For example"
      ],
      "metadata": {
        "id": "LKfonB4tr2My"
      }
    },
    {
      "cell_type": "code",
      "source": [
        "a = \"10\"\n",
        "b = \"25\"\n",
        "print(a+b)"
      ],
      "metadata": {
        "colab": {
          "base_uri": "https://localhost:8080/"
        },
        "id": "Mop6iz4-rhid",
        "outputId": "250ac5ef-2c8a-4d9f-93eb-135250d69fa8"
      },
      "execution_count": null,
      "outputs": [
        {
          "output_type": "stream",
          "name": "stdout",
          "text": [
            "1025\n"
          ]
        }
      ]
    },
    {
      "cell_type": "code",
      "source": [
        "# Else\n",
        "a = 10\n",
        "b = 15\n",
        "print(a+b)"
      ],
      "metadata": {
        "colab": {
          "base_uri": "https://localhost:8080/"
        },
        "id": "yB2oTkVSsNvM",
        "outputId": "f943baec-87e1-4b6a-9f18-95ba66862482"
      },
      "execution_count": null,
      "outputs": [
        {
          "output_type": "stream",
          "name": "stdout",
          "text": [
            "25\n"
          ]
        }
      ]
    },
    {
      "cell_type": "code",
      "source": [
        "a = \"Test\"\n",
        "b = 3\n",
        "print(a*b)"
      ],
      "metadata": {
        "colab": {
          "base_uri": "https://localhost:8080/"
        },
        "id": "gX706hTesVCu",
        "outputId": "f5abb106-51fe-4ead-8849-3d139be34538"
      },
      "execution_count": null,
      "outputs": [
        {
          "output_type": "stream",
          "name": "stdout",
          "text": [
            "TestTestTest\n"
          ]
        }
      ]
    },
    {
      "cell_type": "markdown",
      "source": [
        "# **But do check for the below:**\n",
        "Adding of string and integar will throw us an error of type. We cannot add int to str.\n"
      ],
      "metadata": {
        "id": "n8uhCzfbsk5b"
      }
    },
    {
      "cell_type": "code",
      "source": [
        "a = 10\n",
        "b = \"int\"\n",
        "print(a+b)"
      ],
      "metadata": {
        "colab": {
          "base_uri": "https://localhost:8080/",
          "height": 200
        },
        "id": "NDoJBoY0siMs",
        "outputId": "bfc633b5-dd99-4ba9-cfe3-6ddaee814f9a"
      },
      "execution_count": null,
      "outputs": [
        {
          "output_type": "error",
          "ename": "TypeError",
          "evalue": "ignored",
          "traceback": [
            "\u001b[0;31m---------------------------------------------------------------------------\u001b[0m",
            "\u001b[0;31mTypeError\u001b[0m                                 Traceback (most recent call last)",
            "\u001b[0;32m<ipython-input-30-f7ebb245d33c>\u001b[0m in \u001b[0;36m<module>\u001b[0;34m()\u001b[0m\n\u001b[1;32m      1\u001b[0m \u001b[0ma\u001b[0m \u001b[0;34m=\u001b[0m \u001b[0;36m10\u001b[0m\u001b[0;34m\u001b[0m\u001b[0;34m\u001b[0m\u001b[0m\n\u001b[1;32m      2\u001b[0m \u001b[0mb\u001b[0m \u001b[0;34m=\u001b[0m \u001b[0;34m\"int\"\u001b[0m\u001b[0;34m\u001b[0m\u001b[0;34m\u001b[0m\u001b[0m\n\u001b[0;32m----> 3\u001b[0;31m \u001b[0mprint\u001b[0m\u001b[0;34m(\u001b[0m\u001b[0ma\u001b[0m\u001b[0;34m+\u001b[0m\u001b[0mb\u001b[0m\u001b[0;34m)\u001b[0m\u001b[0;34m\u001b[0m\u001b[0;34m\u001b[0m\u001b[0m\n\u001b[0m",
            "\u001b[0;31mTypeError\u001b[0m: unsupported operand type(s) for +: 'int' and 'str'"
          ]
        }
      ]
    },
    {
      "cell_type": "markdown",
      "source": [
        "# **User Input**"
      ],
      "metadata": {
        "id": "MyxCUyYVtGVz"
      }
    },
    {
      "cell_type": "code",
      "source": [
        "a = input(\"Enter your Name: \")\n",
        "print(\"Your name is\", a)\n",
        "b= input(\"Enter your age: \")\n",
        "print(\"Your age is \",b)\n",
        "c= input(\"Enter your Date of birth: \")\n",
        "print(\"Your D.O.B is\", c)"
      ],
      "metadata": {
        "colab": {
          "base_uri": "https://localhost:8080/"
        },
        "id": "LAaTRhRms8u_",
        "outputId": "8510924c-0294-451c-dc1b-b67e9db38e2a"
      },
      "execution_count": null,
      "outputs": [
        {
          "output_type": "stream",
          "name": "stdout",
          "text": [
            "Enter your Name: Deepak\n",
            "Your name is Deepak\n",
            "Enter your age: 28\n",
            "Your age is  28\n",
            "Enter your Date of birth: 21091695\n",
            "Your D.O.B is 21091695\n"
          ]
        }
      ]
    },
    {
      "cell_type": "markdown",
      "source": [
        "# **Comments**\n",
        "\n",
        "Commenting in python can be done with help of \"#\". If we want to write something or have a descriptive things in our program, so we can done this by commenting out that line. The final output won't show that line, we do this in order to provide the guidelines for our user."
      ],
      "metadata": {
        "id": "CLZ5hroetUxB"
      }
    },
    {
      "cell_type": "code",
      "source": [
        "print(\"Hello World\")\n",
        "\n",
        "# print(\"Welcome\")"
      ],
      "metadata": {
        "colab": {
          "base_uri": "https://localhost:8080/"
        },
        "id": "LDONxyfNtJlI",
        "outputId": "92fd7ba6-989c-4a1e-9a25-3edfde80c43b"
      },
      "execution_count": null,
      "outputs": [
        {
          "output_type": "stream",
          "name": "stdout",
          "text": [
            "Hello World\n"
          ]
        }
      ]
    },
    {
      "cell_type": "code",
      "source": [
        ""
      ],
      "metadata": {
        "id": "GoTfk4nSt7e5"
      },
      "execution_count": null,
      "outputs": []
    }
  ]
}