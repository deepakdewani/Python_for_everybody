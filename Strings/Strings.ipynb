{
  "nbformat": 4,
  "nbformat_minor": 0,
  "metadata": {
    "colab": {
      "name": "Strings.ipynb",
      "provenance": [],
      "collapsed_sections": [],
      "authorship_tag": "ABX9TyMy8PUkL4Ua76Mzu5zXF3Kr",
      "include_colab_link": true
    },
    "kernelspec": {
      "name": "python3",
      "display_name": "Python 3"
    },
    "language_info": {
      "name": "python"
    }
  },
  "cells": [
    {
      "cell_type": "markdown",
      "metadata": {
        "id": "view-in-github",
        "colab_type": "text"
      },
      "source": [
        "<a href=\"https://colab.research.google.com/github/deepak-dewani/Python-for-everybody/blob/main/Strings.ipynb\" target=\"_parent\"><img src=\"https://colab.research.google.com/assets/colab-badge.svg\" alt=\"Open In Colab\"/></a>"
      ]
    },
    {
      "cell_type": "markdown",
      "source": [
        "# **Chapter - Python For Everybody**\n",
        "# **Strings**\n",
        "**A string is a sequence**\n",
        "\n",
        "A string is a sequence of characters. You can access the characters one at a time with the bracket operator:"
      ],
      "metadata": {
        "id": "pyAh_vQs-TIH"
      }
    },
    {
      "cell_type": "code",
      "execution_count": null,
      "metadata": {
        "colab": {
          "base_uri": "https://localhost:8080/"
        },
        "id": "EInUDd8c-M-K",
        "outputId": "50eaab74-26b1-4cc3-81d0-4cc244464eec"
      },
      "outputs": [
        {
          "output_type": "stream",
          "name": "stdout",
          "text": [
            "T\n"
          ]
        }
      ],
      "source": [
        "Car = \"Toyota\"\n",
        "\n",
        "letter = Car[0]\n",
        "print(letter)"
      ]
    },
    {
      "cell_type": "markdown",
      "source": [
        "**Note that: Here in the python, the index always starts from 0. In other words, in order to have the first varaible from the string, we need to call 0th element from the given string.**"
      ],
      "metadata": {
        "id": "E6GUNlju-1T9"
      }
    },
    {
      "cell_type": "markdown",
      "source": [
        "**Getting the length of a string using len**\n",
        "len is a built-in function that returns the number of characters in a string:\n"
      ],
      "metadata": {
        "id": "Njg579uL_TVw"
      }
    },
    {
      "cell_type": "code",
      "source": [
        "len(Car)"
      ],
      "metadata": {
        "colab": {
          "base_uri": "https://localhost:8080/"
        },
        "id": "_ts25jCG-o36",
        "outputId": "4b22077d-9470-4ccf-fb0a-a8fbfe11a35f"
      },
      "execution_count": null,
      "outputs": [
        {
          "output_type": "execute_result",
          "data": {
            "text/plain": [
              "6"
            ]
          },
          "metadata": {},
          "execution_count": 4
        }
      ]
    },
    {
      "cell_type": "markdown",
      "source": [
        "**Traversal through a string with a loop**\n",
        "\n",
        "A lot of computations involve processing a string one character at a time. Often they start at the beginning, select each character in turn, do something to it, and continue until the end. This pattern of processing is called a traversal."
      ],
      "metadata": {
        "id": "Xa4TJ0JC_ttu"
      }
    },
    {
      "cell_type": "code",
      "source": [
        "car = \"Toyota\"\n",
        "n = 0\n",
        "while n < len(car):\n",
        "  y = car[n]\n",
        "  print(n, y)\n",
        "  n = n + 1"
      ],
      "metadata": {
        "colab": {
          "base_uri": "https://localhost:8080/"
        },
        "id": "I_AjKsGz_j4w",
        "outputId": "bb20f8c2-d4fa-4670-b6b5-6ed727f2d293"
      },
      "execution_count": null,
      "outputs": [
        {
          "output_type": "stream",
          "name": "stdout",
          "text": [
            "0 T\n",
            "1 o\n",
            "2 y\n",
            "3 o\n",
            "4 t\n",
            "5 a\n"
          ]
        }
      ]
    },
    {
      "cell_type": "markdown",
      "source": [
        "**Another way to write a traversal is with a for loop:**"
      ],
      "metadata": {
        "id": "0l3LBvqH_-Ok"
      }
    },
    {
      "cell_type": "code",
      "source": [
        "car = \"toyota\"\n",
        "for i in car:\n",
        "  print(i)"
      ],
      "metadata": {
        "colab": {
          "base_uri": "https://localhost:8080/"
        },
        "id": "xJMJ6LqK_3DK",
        "outputId": "6f347d24-25c3-4b70-e4ec-6305d3eff9c1"
      },
      "execution_count": null,
      "outputs": [
        {
          "output_type": "stream",
          "name": "stdout",
          "text": [
            "t\n",
            "o\n",
            "y\n",
            "o\n",
            "t\n",
            "a\n"
          ]
        }
      ]
    },
    {
      "cell_type": "markdown",
      "source": [
        "# **String slicing**\n",
        "\n",
        "A segment of a string is called a slice. Selecting a slice is similar to selecting a character:"
      ],
      "metadata": {
        "id": "eA1JeJvzATZi"
      }
    },
    {
      "cell_type": "code",
      "source": [
        "name = \"deepak dewani\"\n",
        "print(name[0:])\n",
        "print(name[0:1])\n",
        "print(name[0:4])\n",
        "print(name[3:])\n",
        "print(name[7:50])\n",
        "print(name[::-1])"
      ],
      "metadata": {
        "colab": {
          "base_uri": "https://localhost:8080/"
        },
        "id": "a4VqHSzjACnZ",
        "outputId": "4e2299af-767a-43d0-8533-aa520844c238"
      },
      "execution_count": null,
      "outputs": [
        {
          "output_type": "stream",
          "name": "stdout",
          "text": [
            "deepak dewani\n",
            "d\n",
            "deep\n",
            "pak dewani\n",
            "dewani\n",
            "inawed kapeed\n"
          ]
        }
      ]
    },
    {
      "cell_type": "markdown",
      "source": [
        "# **Strings are immutable**\n",
        "\n",
        "**Mutuable** means to change"
      ],
      "metadata": {
        "id": "3QOSXc8xAka4"
      }
    },
    {
      "cell_type": "code",
      "source": [
        "a = \"Hello\"\n",
        "a[0]= \"k\""
      ],
      "metadata": {
        "colab": {
          "base_uri": "https://localhost:8080/",
          "height": 183
        },
        "id": "bRV5jcgEAcne",
        "outputId": "c2f0e79e-92aa-4e37-cce1-c8041f6a1e71"
      },
      "execution_count": null,
      "outputs": [
        {
          "output_type": "error",
          "ename": "TypeError",
          "evalue": "ignored",
          "traceback": [
            "\u001b[0;31m---------------------------------------------------------------------------\u001b[0m",
            "\u001b[0;31mTypeError\u001b[0m                                 Traceback (most recent call last)",
            "\u001b[0;32m<ipython-input-10-9b2ccfc10e43>\u001b[0m in \u001b[0;36m<module>\u001b[0;34m()\u001b[0m\n\u001b[1;32m      1\u001b[0m \u001b[0ma\u001b[0m \u001b[0;34m=\u001b[0m \u001b[0;34m\"Hello\"\u001b[0m\u001b[0;34m\u001b[0m\u001b[0;34m\u001b[0m\u001b[0m\n\u001b[0;32m----> 2\u001b[0;31m \u001b[0ma\u001b[0m\u001b[0;34m[\u001b[0m\u001b[0;36m0\u001b[0m\u001b[0;34m]\u001b[0m\u001b[0;34m=\u001b[0m \u001b[0;34m\"k\"\u001b[0m\u001b[0;34m\u001b[0m\u001b[0;34m\u001b[0m\u001b[0m\n\u001b[0m",
            "\u001b[0;31mTypeError\u001b[0m: 'str' object does not support item assignment"
          ]
        }
      ]
    },
    {
      "cell_type": "markdown",
      "source": [
        "# **Looping and counting**"
      ],
      "metadata": {
        "id": "kP_xlQFJA2la"
      }
    },
    {
      "cell_type": "code",
      "source": [
        "car = \"toyota\"\n",
        "n = 0\n",
        "for i in car:\n",
        "  if i == \"t\":\n",
        "    n = n+ 1\n",
        "print(\"T in Toyota are:\" , n)"
      ],
      "metadata": {
        "colab": {
          "base_uri": "https://localhost:8080/"
        },
        "id": "bbP4Bnh5Awe8",
        "outputId": "11f44ab1-889a-49b4-c1c7-c77a37ace09d"
      },
      "execution_count": null,
      "outputs": [
        {
          "output_type": "stream",
          "name": "stdout",
          "text": [
            "T in Toyota are: 2\n"
          ]
        }
      ]
    },
    {
      "cell_type": "markdown",
      "source": [
        "# **Various methods in strings**\n",
        "\n",
        "We can check out the various methods that we can use in string, with the help of dir() function call."
      ],
      "metadata": {
        "id": "xoFSY-UgCmFs"
      }
    },
    {
      "cell_type": "code",
      "source": [
        "name = \"Deepak Dewani\"\n",
        "dir(name)"
      ],
      "metadata": {
        "colab": {
          "base_uri": "https://localhost:8080/"
        },
        "id": "9Ds0eLBRBOKc",
        "outputId": "8a4f91dc-637a-44fb-802b-c19097c61bba"
      },
      "execution_count": null,
      "outputs": [
        {
          "output_type": "execute_result",
          "data": {
            "text/plain": [
              "['__add__',\n",
              " '__class__',\n",
              " '__contains__',\n",
              " '__delattr__',\n",
              " '__dir__',\n",
              " '__doc__',\n",
              " '__eq__',\n",
              " '__format__',\n",
              " '__ge__',\n",
              " '__getattribute__',\n",
              " '__getitem__',\n",
              " '__getnewargs__',\n",
              " '__gt__',\n",
              " '__hash__',\n",
              " '__init__',\n",
              " '__init_subclass__',\n",
              " '__iter__',\n",
              " '__le__',\n",
              " '__len__',\n",
              " '__lt__',\n",
              " '__mod__',\n",
              " '__mul__',\n",
              " '__ne__',\n",
              " '__new__',\n",
              " '__reduce__',\n",
              " '__reduce_ex__',\n",
              " '__repr__',\n",
              " '__rmod__',\n",
              " '__rmul__',\n",
              " '__setattr__',\n",
              " '__sizeof__',\n",
              " '__str__',\n",
              " '__subclasshook__',\n",
              " 'capitalize',\n",
              " 'casefold',\n",
              " 'center',\n",
              " 'count',\n",
              " 'encode',\n",
              " 'endswith',\n",
              " 'expandtabs',\n",
              " 'find',\n",
              " 'format',\n",
              " 'format_map',\n",
              " 'index',\n",
              " 'isalnum',\n",
              " 'isalpha',\n",
              " 'isascii',\n",
              " 'isdecimal',\n",
              " 'isdigit',\n",
              " 'isidentifier',\n",
              " 'islower',\n",
              " 'isnumeric',\n",
              " 'isprintable',\n",
              " 'isspace',\n",
              " 'istitle',\n",
              " 'isupper',\n",
              " 'join',\n",
              " 'ljust',\n",
              " 'lower',\n",
              " 'lstrip',\n",
              " 'maketrans',\n",
              " 'partition',\n",
              " 'replace',\n",
              " 'rfind',\n",
              " 'rindex',\n",
              " 'rjust',\n",
              " 'rpartition',\n",
              " 'rsplit',\n",
              " 'rstrip',\n",
              " 'split',\n",
              " 'splitlines',\n",
              " 'startswith',\n",
              " 'strip',\n",
              " 'swapcase',\n",
              " 'title',\n",
              " 'translate',\n",
              " 'upper',\n",
              " 'zfill']"
            ]
          },
          "metadata": {},
          "execution_count": 27
        }
      ]
    },
    {
      "cell_type": "code",
      "source": [
        "name = \"Deepak Dewani\"\n",
        "\n",
        "print(name.lower())\n",
        "print(name.upper())\n",
        "print(name.capitalize())\n",
        "print(name.isalnum())\n",
        "print(name.find(\"p\"))\n",
        "print(name.find(\"t\"))\n",
        "print(name.replace(\"Deepak\",\"deepak\"))\n",
        "print(name.replace(\"e\",\"p\"))\n",
        "print(name.startswith(\"e\"), \"\\n\")"
      ],
      "metadata": {
        "colab": {
          "base_uri": "https://localhost:8080/"
        },
        "id": "XFlTygv7C6u_",
        "outputId": "0c19aa0f-c218-44ac-9254-2a0811f05a27"
      },
      "execution_count": 1,
      "outputs": [
        {
          "output_type": "stream",
          "name": "stdout",
          "text": [
            "deepak dewani\n",
            "DEEPAK DEWANI\n",
            "Deepak dewani\n",
            "False\n",
            "3\n",
            "-1\n",
            "deepak Dewani\n",
            "Dpppak Dpwani\n",
            "False \n",
            "\n"
          ]
        }
      ]
    },
    {
      "cell_type": "code",
      "source": [
        ""
      ],
      "metadata": {
        "id": "cLdjOg9rsdam"
      },
      "execution_count": null,
      "outputs": []
    }
  ]
}