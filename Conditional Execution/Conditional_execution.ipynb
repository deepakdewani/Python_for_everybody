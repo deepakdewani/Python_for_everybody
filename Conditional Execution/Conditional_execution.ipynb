{
  "cells": [
    {
      "cell_type": "markdown",
      "metadata": {
        "colab_type": "text",
        "id": "view-in-github"
      },
      "source": [
        "<a href=\"https://colab.research.google.com/github/deepak-dewani/Python-for-everybody/blob/main/Conditional_execution.ipynb\" target=\"_parent\"><img src=\"https://colab.research.google.com/assets/colab-badge.svg\" alt=\"Open In Colab\"/></a>"
      ]
    },
    {
      "cell_type": "markdown",
      "metadata": {
        "id": "bna8VVqiuxGi"
      },
      "source": [
        "# **Chapter - Python For Everybody**\n",
        "\n",
        "# **Conditional execution**\n",
        "\n",
        "In order to write useful programs, we almost always need the ability to check conditions and change the behavior of the program accordingly. Conditional statements give us this ability. The simplest form is the if statement:"
      ]
    },
    {
      "cell_type": "code",
      "execution_count": null,
      "metadata": {
        "colab": {
          "base_uri": "https://localhost:8080/"
        },
        "id": "P3wCEbcQuYWC",
        "outputId": "5509b4f1-dee1-4534-ba49-b088a93ca48a"
      },
      "outputs": [
        {
          "name": "stdout",
          "output_type": "stream",
          "text": [
            "x is positive\n"
          ]
        }
      ],
      "source": [
        "x = 5\n",
        "if x > 0 :\n",
        "    print('x is positive')"
      ]
    },
    {
      "cell_type": "markdown",
      "metadata": {
        "id": "emVSm0zkwO62"
      },
      "source": [
        "# **Use of IF and ELSE Conditions**"
      ]
    },
    {
      "cell_type": "code",
      "execution_count": null,
      "metadata": {
        "colab": {
          "base_uri": "https://localhost:8080/"
        },
        "id": "G-Zg6P3vvObn",
        "outputId": "88bbc4d7-8e16-48fe-deb0-8b55c37d7d2c"
      },
      "outputs": [
        {
          "name": "stdout",
          "output_type": "stream",
          "text": [
            "Enter the number: 5\n",
            "Number is smaller than 20\n"
          ]
        }
      ],
      "source": [
        "# Conditional Operator\n",
        "# Check the number is greater than 20 or not?\n",
        "\n",
        "x = int(input(\"Enter the number: \"))\n",
        "if x < 20:\n",
        "  print(\"Number is smaller than 20\")\n",
        "else:\n",
        "  print(\"Number is larger than 20\")"
      ]
    },
    {
      "cell_type": "markdown",
      "metadata": {
        "id": "Oyke-FBCwrnr"
      },
      "source": [
        "# **Use of IF, ELSE and ELIF Conditions**"
      ]
    },
    {
      "cell_type": "code",
      "execution_count": null,
      "metadata": {
        "colab": {
          "base_uri": "https://localhost:8080/"
        },
        "id": "6lRZtEvUv7mo",
        "outputId": "5a713b32-7b8b-46c1-ae19-ebb4fd0dfa7e"
      },
      "outputs": [
        {
          "name": "stdout",
          "output_type": "stream",
          "text": [
            "Enter the number: 10\n",
            "Number is smaller than 20\n"
          ]
        }
      ],
      "source": [
        "# Conditional Operator\n",
        "# Check the number is greater than 20 or not?\n",
        "\n",
        "x = int(input(\"Enter the number: \"))\n",
        "if x < 20:\n",
        "  print(\"Number is smaller than 20\")\n",
        "elif x ==20:\n",
        "  print(\"Number is 20\")\n",
        "else:\n",
        "  print(\"Number is larger than 20\")"
      ]
    },
    {
      "cell_type": "markdown",
      "metadata": {
        "id": "P7hZP102xGKZ"
      },
      "source": [
        "# **Repeated Operators**"
      ]
    },
    {
      "cell_type": "code",
      "execution_count": null,
      "metadata": {
        "colab": {
          "base_uri": "https://localhost:8080/"
        },
        "id": "16e8MSNQwzJX",
        "outputId": "f6a45f23-5cf4-4928-bc04-0420aaaee097"
      },
      "outputs": [
        {
          "name": "stdout",
          "output_type": "stream",
          "text": [
            "Enter the number: 5\n",
            "5\n",
            "4\n",
            "3\n",
            "2\n",
            "1\n",
            "Endpoint!!\n"
          ]
        }
      ],
      "source": [
        "x = int(input(\"Enter the number: \"))\n",
        "while x > 0:\n",
        "  print(x)\n",
        "  x = x - 1\n",
        "print(\"Endpoint!!\")"
      ]
    },
    {
      "cell_type": "markdown",
      "metadata": {
        "id": "DpY4Ldqexkxw"
      },
      "source": [
        "**Write a program to find out the number is odd or even??**"
      ]
    },
    {
      "cell_type": "code",
      "execution_count": null,
      "metadata": {
        "colab": {
          "base_uri": "https://localhost:8080/"
        },
        "id": "PdMb2eKFxMh6",
        "outputId": "1d51970b-9cdf-4190-ff58-9f530c41245a"
      },
      "outputs": [
        {
          "name": "stdout",
          "output_type": "stream",
          "text": [
            "Enter the number: 56\n",
            "Number is even\n"
          ]
        }
      ],
      "source": [
        "#Odd and Even numbers\n",
        "# Write a program to print the number is even or odd?\n",
        "\n",
        "num = int(input(\"Enter the number: \"))\n",
        "if num%2==0:\n",
        "  print(\"Number is even\")\n",
        "else:\n",
        "  print(\"Number is odd\")"
      ]
    }
  ],
  "metadata": {
    "colab": {
      "authorship_tag": "ABX9TyNojaovxWAp9XzRR12Iy/sq",
      "collapsed_sections": [],
      "include_colab_link": true,
      "name": "Conditional execution.ipynb",
      "provenance": []
    },
    "kernelspec": {
      "display_name": "Python 3",
      "name": "python3"
    },
    "language_info": {
      "name": "python",
      "version": "3.8.10"
    }
  },
  "nbformat": 4,
  "nbformat_minor": 0
}
