{
  "nbformat": 4,
  "nbformat_minor": 0,
  "metadata": {
    "colab": {
      "name": "Iteration and Looping.ipynb",
      "provenance": [],
      "collapsed_sections": [],
      "authorship_tag": "ABX9TyPYkq0gbbOx2LnIMIEJxv+J",
      "include_colab_link": true
    },
    "kernelspec": {
      "name": "python3",
      "display_name": "Python 3"
    },
    "language_info": {
      "name": "python"
    }
  },
  "cells": [
    {
      "cell_type": "markdown",
      "metadata": {
        "id": "view-in-github",
        "colab_type": "text"
      },
      "source": [
        "<a href=\"https://colab.research.google.com/github/deepak-dewani/Python-for-everybody/blob/main/Iteration_and_Looping.ipynb\" target=\"_parent\"><img src=\"https://colab.research.google.com/assets/colab-badge.svg\" alt=\"Open In Colab\"/></a>"
      ]
    },
    {
      "cell_type": "markdown",
      "source": [
        "# **Chapter - Python for Everybody**\n",
        "\n",
        "# **Iteration**\n",
        "\n",
        "With the help of looping concept, we can go and iterate the variable, to get the output. The two basic loops which are used:\n",
        "\n",
        "*   while loop(Infinite Loop)\n",
        "*   for Loop(Definite Loop)\n",
        "\n"
      ],
      "metadata": {
        "id": "EZHPSi6S6WcU"
      }
    },
    {
      "cell_type": "markdown",
      "source": [
        "# **The while statement**\n",
        "\n",
        "Computers are often used to automate repetitive tasks. Repeating identical or similar tasks without making errors is something that computers do well and people do poorly. Because iteration is so common, Python provides several language features to make it easier.\n",
        "\n",
        "One form of iteration in Python is the while statement. Here is a simple program that counts down from five and then says “Blastoff!”.\n"
      ],
      "metadata": {
        "id": "Nip7U5YT7Vbw"
      }
    },
    {
      "cell_type": "code",
      "execution_count": null,
      "metadata": {
        "colab": {
          "base_uri": "https://localhost:8080/"
        },
        "id": "MzdnA-Lx6NaI",
        "outputId": "cab526dd-7283-4e38-f2b7-acecf02e7f19"
      },
      "outputs": [
        {
          "output_type": "stream",
          "name": "stdout",
          "text": [
            "Enter the number: 5\n",
            "5\n",
            "4\n",
            "3\n",
            "2\n",
            "1\n",
            "Endpoint!!\n"
          ]
        }
      ],
      "source": [
        "x = int(input(\"Enter the number: \"))\n",
        "while x > 0:\n",
        "  print(x)\n",
        "  x = x - 1\n",
        "print(\"Endpoint!!\")"
      ]
    },
    {
      "cell_type": "markdown",
      "source": [
        "While Loop is called Repeative or infinite loop, because the while loop check for the every true value, once it gets false value, the loops stops iterartion and comes out of the loop, same as above when the number x is reached to 0 value the statement becomes wrong/false so it come out of the loop and print \"Endpoint\"."
      ],
      "metadata": {
        "id": "NMCO-m2a7vJS"
      }
    },
    {
      "cell_type": "markdown",
      "source": [
        "# **The FOR Statement**\n",
        "\n",
        "Sometimes we want to loop through a set of things such as a list of words, the lines in a file, or a list of numbers. When we have a list of things to loop through, we can construct a definite loop using a for statement. We call the while statement an indefinite loop because it simply loops until some condition becomes False, whereas the for loop is looping through a known set of items so it runs through as many iterations as there are items in the set.\n",
        "\n",
        "The syntax of a for loop is similar to the while loop in that there is a for statement and a loop body:"
      ],
      "metadata": {
        "id": "uPYJ9GwZ8U3o"
      }
    },
    {
      "cell_type": "code",
      "source": [
        "for i in (5,4,3,2,1):\n",
        "  print(i)"
      ],
      "metadata": {
        "colab": {
          "base_uri": "https://localhost:8080/"
        },
        "id": "-mqLpw1r7fdl",
        "outputId": "8aae1930-d346-4ac9-8d66-bf097196acad"
      },
      "execution_count": null,
      "outputs": [
        {
          "output_type": "stream",
          "name": "stdout",
          "text": [
            "5\n",
            "4\n",
            "3\n",
            "2\n",
            "1\n"
          ]
        }
      ]
    },
    {
      "cell_type": "markdown",
      "source": [
        "**With the range function**"
      ],
      "metadata": {
        "id": "ypLnKcrM8pj2"
      }
    },
    {
      "cell_type": "code",
      "source": [
        "for i in range(0,6):\n",
        "  print(i)"
      ],
      "metadata": {
        "colab": {
          "base_uri": "https://localhost:8080/"
        },
        "id": "5EFiU3Sl8kTD",
        "outputId": "c355d7e0-eb93-405e-8124-6f0038eb8e55"
      },
      "execution_count": null,
      "outputs": [
        {
          "output_type": "stream",
          "name": "stdout",
          "text": [
            "0\n",
            "1\n",
            "2\n",
            "3\n",
            "4\n",
            "5\n"
          ]
        }
      ]
    },
    {
      "cell_type": "markdown",
      "source": [
        "**Iterating through the list**"
      ],
      "metadata": {
        "id": "ZAbiYVMb80X-"
      }
    },
    {
      "cell_type": "code",
      "source": [
        "x = [\"Deepak\", \"Sally\", \"Kunal\"]\n",
        "\n",
        "\n",
        "for i in x:\n",
        "  print(\"Welcome to konverge Bootcamp: \", i)"
      ],
      "metadata": {
        "colab": {
          "base_uri": "https://localhost:8080/"
        },
        "id": "DZhgPVSd8oGs",
        "outputId": "77afe9fa-2957-4dd7-eee1-2fa2f0a7ed9c"
      },
      "execution_count": null,
      "outputs": [
        {
          "output_type": "stream",
          "name": "stdout",
          "text": [
            "Welcome to konverge Bootcamp:  Deepak\n",
            "Welcome to konverge Bootcamp:  Sally\n",
            "Welcome to konverge Bootcamp:  Kunal\n"
          ]
        }
      ]
    },
    {
      "cell_type": "markdown",
      "source": [
        "**Counting of number**"
      ],
      "metadata": {
        "id": "IeXZVdBm88xr"
      }
    },
    {
      "cell_type": "code",
      "source": [
        "num = 0\n",
        "print(\"Before: \", num)\n",
        "for i in [1,5,6,8,9,15,45,50]:\n",
        "  num = num + 1\n",
        "print(num,\"-->\", i)\n",
        "\n",
        "print(\"After: \", num)"
      ],
      "metadata": {
        "colab": {
          "base_uri": "https://localhost:8080/"
        },
        "id": "5_hPjEWX8y-0",
        "outputId": "4689ce52-62f0-4793-a18a-db8ef55736a9"
      },
      "execution_count": null,
      "outputs": [
        {
          "output_type": "stream",
          "name": "stdout",
          "text": [
            "Before:  0\n",
            "8 --> 50\n",
            "After:  8\n"
          ]
        }
      ]
    },
    {
      "cell_type": "markdown",
      "source": [
        "**Average of a number**"
      ],
      "metadata": {
        "id": "TnS_lv9n9JVd"
      }
    },
    {
      "cell_type": "code",
      "source": [
        "x = 0\n",
        "y = 0\n",
        "print(\"Before :\", x, y)\n",
        "for z in [10,98,55,66,85,41,21,5]:\n",
        "  x = x + 1\n",
        "  y = y + z\n",
        "  print(x,\"-->\",y,z)\n",
        "print(\"after: \", x,y ,(y/x))"
      ],
      "metadata": {
        "colab": {
          "base_uri": "https://localhost:8080/"
        },
        "id": "lNR8Lckq9BkU",
        "outputId": "4c830e46-466a-4131-9770-ed6b013c4b58"
      },
      "execution_count": null,
      "outputs": [
        {
          "output_type": "stream",
          "name": "stdout",
          "text": [
            "Before : 0 0\n",
            "1 --> 10 10\n",
            "2 --> 108 98\n",
            "3 --> 163 55\n",
            "4 --> 229 66\n",
            "5 --> 314 85\n",
            "6 --> 355 41\n",
            "7 --> 376 21\n",
            "8 --> 381 5\n",
            "after:  8 381 47.625\n"
          ]
        }
      ]
    },
    {
      "cell_type": "markdown",
      "source": [
        "**Filtering out the given range**"
      ],
      "metadata": {
        "id": "pkzJ0-0Q9SmS"
      }
    },
    {
      "cell_type": "code",
      "source": [
        "for i in range(0,20):\n",
        "  if i > 15:\n",
        "    print(i)\n",
        "    "
      ],
      "metadata": {
        "colab": {
          "base_uri": "https://localhost:8080/"
        },
        "id": "-f8pF2r29NkH",
        "outputId": "abaf081b-bec1-461b-be79-79f5965cf153"
      },
      "execution_count": null,
      "outputs": [
        {
          "output_type": "stream",
          "name": "stdout",
          "text": [
            "16\n",
            "17\n",
            "18\n",
            "19\n"
          ]
        }
      ]
    },
    {
      "cell_type": "markdown",
      "source": [
        "**Compairing within range**"
      ],
      "metadata": {
        "id": "F3U0tSsx9e7v"
      }
    },
    {
      "cell_type": "code",
      "source": [
        "for i in range(0,6):\n",
        "  if i >= 3:\n",
        "    print(i, \"true\")"
      ],
      "metadata": {
        "colab": {
          "base_uri": "https://localhost:8080/"
        },
        "id": "OeAlNMba9Ym3",
        "outputId": "da2e0735-a448-4836-def9-5653571b24e9"
      },
      "execution_count": null,
      "outputs": [
        {
          "output_type": "stream",
          "name": "stdout",
          "text": [
            "3 true\n",
            "4 true\n",
            "5 true\n"
          ]
        }
      ]
    }
  ]
}