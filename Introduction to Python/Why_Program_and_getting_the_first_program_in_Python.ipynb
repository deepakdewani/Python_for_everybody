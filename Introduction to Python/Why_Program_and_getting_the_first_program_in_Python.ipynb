{
  "nbformat": 4,
  "nbformat_minor": 0,
  "metadata": {
    "colab": {
      "name": "Why Program and getting the first program in Python.ipynb",
      "provenance": [],
      "collapsed_sections": [],
      "authorship_tag": "ABX9TyOnHGeLMi48HMCpmnk30Aj5",
      "include_colab_link": true
    },
    "kernelspec": {
      "name": "python3",
      "display_name": "Python 3"
    },
    "language_info": {
      "name": "python"
    }
  },
  "cells": [
    {
      "cell_type": "markdown",
      "metadata": {
        "id": "view-in-github",
        "colab_type": "text"
      },
      "source": [
        "<a href=\"https://colab.research.google.com/github/deepak-dewani/Python-for-everybody/blob/main/Why_Program_and_getting_the_first_program_in_Python.ipynb\" target=\"_parent\"><img src=\"https://colab.research.google.com/assets/colab-badge.svg\" alt=\"Open In Colab\"/></a>"
      ]
    },
    {
      "cell_type": "markdown",
      "source": [
        "# **Chapter - Python For Everybody**"
      ],
      "metadata": {
        "id": "YLP9NZlHR73x"
      }
    },
    {
      "cell_type": "markdown",
      "source": [
        "# **Why Program**\n",
        "\n",
        "**Why should you learn to write programs?**\n",
        "\n",
        "Writing programs (or programming) is a very creative and rewarding activity. You can write programs for many reasons, ranging from making your living to solving a difficult data analysis problem to having fun to helping someone else solve a problem.\n",
        "We are surrounded in our daily lives with computers ranging from laptops to cell phones. We can think of these computers as our “personal assistants” who can take care of many things on our behalf. The hardware in our current-day computers is essentially built to continuously ask us the question, “What would you like me to do next?”"
      ],
      "metadata": {
        "id": "z_TnAUaHSDDA"
      }
    },
    {
      "cell_type": "markdown",
      "source": [
        "# **Understanding programming**\n",
        "\n",
        "In the rest of this book, we will try to turn you into a person who is skilled in the art of programming. In the end you will be a programmer - perhaps not a professional programmer, but at least you will have the skills to look at a data/information analysis problem and develop a program to solve the problem.\n",
        "\n",
        "In a sense, you need two skills to be a programmer:\n",
        "\n",
        "1. First, you need to know the programming language (Python) - you need to know the vocabulary and the grammar. You need to be able to spell the words in this new language properly and know how to construct well-formed “sentences” in this new language.\n",
        "\n",
        "2. Second, you need to “tell a story”. In writing a story, you combine words and sentences to convey an idea to the reader. There is a skill and art in constructing the story, and skill in story writing is improved by doing some writing and getting some feedback. In programming, our program is the “story” and the problem you are trying to solve is the “idea”."
      ],
      "metadata": {
        "id": "fU-6PPB0TGkE"
      }
    },
    {
      "cell_type": "markdown",
      "source": [
        "# **Words and sentences**\n",
        "\n",
        "Unlike human languages, the Python vocabulary is actually pretty small. We call this “vocabulary” the “reserved words”. These are words that have very special meaning to Python. When Python sees these words in a Python program, they have one and only one meaning to Python. Later as you write programs you will make up your own words that have meaning to you called variables. You will have great latitude in choosing your names for your variables, but you cannot use any of Python’s reserved words as a name for a variable.\n",
        "\n",
        "The reserved words in the language where humans talk to Python include the following:\n",
        "\n",
        "        and      global      not       with\n",
        "        as        elif      if          or        yield\n",
        "        assert    else      import      pass\n",
        "        break     except    in          raise\n",
        "        class     finally   is          return\n",
        "        continue  for       lambda      try\n",
        "        def       from      nonlocal    while    del"
      ],
      "metadata": {
        "id": "mMQuwYORTRHt"
      }
    },
    {
      "cell_type": "markdown",
      "source": [
        "# **Writing a program**\n",
        "Typing commands into the Python interpreter is a great way to experiment with Python’s features, but it is not recommended for solving more complex problems.\n",
        "\n",
        "When we want to write a program, we use a text editor to write the Python instructions into a file, which is called a script. By convention, Python scripts have names that end with .py.\n",
        "\n",
        "To execute the script, you have to tell the Python interpreter the name of the file. In a command window, you would type python hello.py as follows:\n",
        "\n",
        "      $ cat hello.py\n",
        "      print('Hello world!')\n",
        "      $ python hello.py\n",
        "      Hello world!"
      ],
      "metadata": {
        "id": "hjx7llLPUlA4"
      }
    },
    {
      "cell_type": "markdown",
      "source": [
        "# **Getting our first program in Python**\n",
        "\n",
        "Write a program in python to print 'Hello World!'."
      ],
      "metadata": {
        "id": "b4_8rSpLU_N3"
      }
    },
    {
      "cell_type": "code",
      "execution_count": null,
      "metadata": {
        "colab": {
          "base_uri": "https://localhost:8080/"
        },
        "id": "S5PiFMfnRyAR",
        "outputId": "b347f1eb-38d6-45b7-b5c0-a9eacd683ed7"
      },
      "outputs": [
        {
          "output_type": "stream",
          "name": "stdout",
          "text": [
            "Hello World!\n",
            "Welcome to Bootcamp of Konverge AI PVT LTD\n"
          ]
        }
      ],
      "source": [
        "# Welcome to python tutorial\n",
        "\n",
        "# Lets write our first program\n",
        "# Write a program to print \"Hello World\"\n",
        "\n",
        "print(\"Hello World!\")\n",
        "\n",
        "print(\"Welcome to Bootcamp of Konverge AI PVT LTD\")\n",
        "\n",
        "# simple"
      ]
    }
  ]
}