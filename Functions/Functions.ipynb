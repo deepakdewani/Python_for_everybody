{
  "nbformat": 4,
  "nbformat_minor": 0,
  "metadata": {
    "colab": {
      "name": "Functions.ipynb",
      "provenance": [],
      "collapsed_sections": [],
      "authorship_tag": "ABX9TyOu+S0ISCuCjbbJSq3++30j",
      "include_colab_link": true
    },
    "kernelspec": {
      "name": "python3",
      "display_name": "Python 3"
    },
    "language_info": {
      "name": "python"
    }
  },
  "cells": [
    {
      "cell_type": "markdown",
      "metadata": {
        "id": "view-in-github",
        "colab_type": "text"
      },
      "source": [
        "<a href=\"https://colab.research.google.com/github/deepak-dewani/Python-for-everybody/blob/main/Functions.ipynb\" target=\"_parent\"><img src=\"https://colab.research.google.com/assets/colab-badge.svg\" alt=\"Open In Colab\"/></a>"
      ]
    },
    {
      "cell_type": "markdown",
      "source": [
        "# **Chapter - Python for Everybody**\n",
        "\n",
        "# **Functions**\n",
        "\n",
        "**Function calls**\n",
        "\n",
        "In the context of programming, a function is a named sequence of statements that performs a computation. When you define a function, you specify the name and the sequence of statements. Later, you can “call” the function by name. We have already seen one example of a function call:-"
      ],
      "metadata": {
        "id": "pimJKAkGzHrh"
      }
    },
    {
      "cell_type": "code",
      "execution_count": null,
      "metadata": {
        "colab": {
          "base_uri": "https://localhost:8080/"
        },
        "id": "d5l9mT7VzCqO",
        "outputId": "7999152d-2dd1-47f5-d9d9-655a5c08994f"
      },
      "outputs": [
        {
          "output_type": "stream",
          "name": "stdout",
          "text": [
            "x\n"
          ]
        }
      ],
      "source": [
        "print(\"x\")"
      ]
    },
    {
      "cell_type": "markdown",
      "source": [
        "The name of the function is *print*. The expression in parentheses is called the *argument* of the function. The argument is a value or variable that we are passing into the function as input to the function. The result, for the *print* function, is the *print* of the argument."
      ],
      "metadata": {
        "id": "K5cHAws70bFD"
      }
    },
    {
      "cell_type": "markdown",
      "source": [
        "# **Built-in functions**\n",
        "\n",
        "Python provides a number of important built-in functions that we can use without needing to provide the function definition. The creators of Python wrote a set of functions to solve common problems and included them in Python for us to use."
      ],
      "metadata": {
        "id": "Ng896dkG04Hg"
      }
    },
    {
      "cell_type": "markdown",
      "source": [
        "Some of the example of built - in functions:"
      ],
      "metadata": {
        "id": "L6ap5M442Jjs"
      }
    },
    {
      "cell_type": "code",
      "source": [
        "print(\"Hello World!\")\n",
        "type(\"Hello World!\")\n",
        "len(\"Hello World!\")\n",
        "max(\"Hello World!\")\n",
        "min('Hello World!')\n",
        "\n",
        "# In order to have the output, we need to print each functions"
      ],
      "metadata": {
        "colab": {
          "base_uri": "https://localhost:8080/",
          "height": 53
        },
        "id": "fia4Grvkz8P8",
        "outputId": "5a7907cc-ff57-493b-9587-6ea74e653248"
      },
      "execution_count": null,
      "outputs": [
        {
          "output_type": "stream",
          "name": "stdout",
          "text": [
            "Hello World!\n"
          ]
        },
        {
          "output_type": "execute_result",
          "data": {
            "application/vnd.google.colaboratory.intrinsic+json": {
              "type": "string"
            },
            "text/plain": [
              "' '"
            ]
          },
          "metadata": {},
          "execution_count": 4
        }
      ]
    },
    {
      "cell_type": "markdown",
      "source": [
        "# **Type conversion functions or Type Casting in Python**\n",
        "\n",
        "Python also provides built-in functions that convert values from one type to another. The int function takes any value and converts it to an integer, if it can, or complains otherwise:\n",
        "\n"
      ],
      "metadata": {
        "id": "sf_OUZD02roU"
      }
    },
    {
      "cell_type": "markdown",
      "source": [
        "**Int to str**"
      ],
      "metadata": {
        "id": "GAEg9IiQ3byb"
      }
    },
    {
      "cell_type": "code",
      "source": [
        "a = 5\n",
        "b = str(a)\n",
        "print(b)\n",
        "type(b)"
      ],
      "metadata": {
        "colab": {
          "base_uri": "https://localhost:8080/"
        },
        "id": "QC1bCNUk2GtN",
        "outputId": "3b8ff81f-4c52-4588-f3c4-5914c44c2f51"
      },
      "execution_count": null,
      "outputs": [
        {
          "output_type": "stream",
          "name": "stdout",
          "text": [
            "5\n"
          ]
        },
        {
          "output_type": "execute_result",
          "data": {
            "text/plain": [
              "str"
            ]
          },
          "metadata": {},
          "execution_count": 7
        }
      ]
    },
    {
      "cell_type": "markdown",
      "source": [
        "**Str to int**"
      ],
      "metadata": {
        "id": "8__bbaxq3gTk"
      }
    },
    {
      "cell_type": "code",
      "source": [
        "a = '5'\n",
        "b = int(a)\n",
        "print(b)\n",
        "type(b)"
      ],
      "metadata": {
        "colab": {
          "base_uri": "https://localhost:8080/"
        },
        "id": "r3bjuJ362_Jn",
        "outputId": "96a3441e-f661-490c-a38b-32eaa7883014"
      },
      "execution_count": null,
      "outputs": [
        {
          "output_type": "stream",
          "name": "stdout",
          "text": [
            "5\n"
          ]
        },
        {
          "output_type": "execute_result",
          "data": {
            "text/plain": [
              "int"
            ]
          },
          "metadata": {},
          "execution_count": 10
        }
      ]
    },
    {
      "cell_type": "markdown",
      "source": [
        "**Str to float**\n",
        " \n",
        "**int to float**"
      ],
      "metadata": {
        "id": "r6OZ-_oK3jNE"
      }
    },
    {
      "cell_type": "code",
      "source": [
        "a = \"56.55\"\n",
        "b = float(a)\n",
        "print(b)\n",
        "type(b)\n",
        "\n"
      ],
      "metadata": {
        "colab": {
          "base_uri": "https://localhost:8080/"
        },
        "id": "idtE6LQI3IBP",
        "outputId": "72b0818e-7e89-4e20-b0d6-525520322360"
      },
      "execution_count": null,
      "outputs": [
        {
          "output_type": "stream",
          "name": "stdout",
          "text": [
            "56.55\n"
          ]
        },
        {
          "output_type": "execute_result",
          "data": {
            "text/plain": [
              "float"
            ]
          },
          "metadata": {},
          "execution_count": 12
        }
      ]
    },
    {
      "cell_type": "code",
      "source": [
        "a = 56\n",
        "b = float(a)\n",
        "print(b)\n",
        "type(b)"
      ],
      "metadata": {
        "colab": {
          "base_uri": "https://localhost:8080/"
        },
        "id": "YJFSEidg3xWs",
        "outputId": "400f3039-a04f-430c-b09d-e20a906f17fd"
      },
      "execution_count": null,
      "outputs": [
        {
          "output_type": "stream",
          "name": "stdout",
          "text": [
            "56.0\n"
          ]
        },
        {
          "output_type": "execute_result",
          "data": {
            "text/plain": [
              "float"
            ]
          },
          "metadata": {},
          "execution_count": 15
        }
      ]
    },
    {
      "cell_type": "markdown",
      "source": [
        "# **Adding new functions**\n",
        "\n",
        "**Building our function**\n",
        "\n",
        "This can be done with the help of built- in function in python"
      ],
      "metadata": {
        "id": "2Yiz-Gbb4QLn"
      }
    },
    {
      "cell_type": "code",
      "source": [
        "def funct():\n",
        "  print(\"Welcome to bootcamp\")\n",
        "  print(\"Welcome to Konverge AI\")\n",
        "\n",
        "funct()\n"
      ],
      "metadata": {
        "colab": {
          "base_uri": "https://localhost:8080/"
        },
        "id": "ZGxrhPZ04HU4",
        "outputId": "69fc8ae8-9127-4025-8498-aec4d5d0f038"
      },
      "execution_count": null,
      "outputs": [
        {
          "output_type": "stream",
          "name": "stdout",
          "text": [
            "Welcome to bootcamp\n",
            "Welcome to Konverge AI\n"
          ]
        }
      ]
    },
    {
      "cell_type": "code",
      "source": [
        "def greet(Car):\n",
        "  if Car == \"Toyota\":\n",
        "    print(\"Japan\")\n",
        "  if Car == \"Audi\":\n",
        "    print(\"Germany\")\n",
        "  if Car == \"Ford\":\n",
        "    print(\"USA\")\n",
        "\n",
        "\n",
        "greet(\"Audi\")\n"
      ],
      "metadata": {
        "colab": {
          "base_uri": "https://localhost:8080/"
        },
        "id": "g2YIYWup4Huq",
        "outputId": "fd30a68d-d3fd-4090-adb2-15318f9cb35c"
      },
      "execution_count": null,
      "outputs": [
        {
          "output_type": "stream",
          "name": "stdout",
          "text": [
            "Germany\n"
          ]
        }
      ]
    },
    {
      "cell_type": "markdown",
      "source": [
        "# **Why functions?**\n",
        "\n",
        "It may not be clear why it is worth the trouble to divide a program into functions. There are several reasons:\n",
        "\n",
        "1. Creating a new function gives you an opportunity to name a group of statements, which makes your program easier to read, understand, and debug.\n",
        "\n",
        "2. Functions can make a program smaller by eliminating repetitive code. Later, if you make a change, you only have to make it in one place.\n",
        "\n",
        "3. Dividing a long program into functions allows you to debug the parts one at a time and then assemble them into a working whole.\n",
        "\n",
        "4. Well-designed functions are often useful for many programs. Once you write and debug one, you can reuse it."
      ],
      "metadata": {
        "id": "HHELo5Tn5GWx"
      }
    }
  ]
}