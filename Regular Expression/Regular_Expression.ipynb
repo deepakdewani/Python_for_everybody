{
  "nbformat": 4,
  "nbformat_minor": 0,
  "metadata": {
    "colab": {
      "name": "Regular Expression.ipynb",
      "provenance": [],
      "collapsed_sections": [],
      "authorship_tag": "ABX9TyNtD1QMmIjTE9NU+P+ryR6M",
      "include_colab_link": true
    },
    "kernelspec": {
      "name": "python3",
      "display_name": "Python 3"
    },
    "language_info": {
      "name": "python"
    }
  },
  "cells": [
    {
      "cell_type": "markdown",
      "metadata": {
        "id": "view-in-github",
        "colab_type": "text"
      },
      "source": [
        "<a href=\"https://colab.research.google.com/github/deepak-dewani/Python-for-everybody/blob/main/Regular_Expression.ipynb\" target=\"_parent\"><img src=\"https://colab.research.google.com/assets/colab-badge.svg\" alt=\"Open In Colab\"/></a>"
      ]
    },
    {
      "cell_type": "markdown",
      "source": [
        "# **Chapter - Python for Everybody**\n",
        "# **Regular expressions**\n",
        "\n",
        "Python has a very powerful library called regular expressions that handles many of these tasks quite elegantly. The reason we have not introduced regular expressions earlier in the book is because while they are very powerful, they are a little complicated and their syntax takes some getting used to.\n",
        "\n",
        "Regular expressions are almost their own little programming language for searching and parsing strings. As a matter of fact, entire books have been written on the topic of regular expressions. In this chapter, we will only cover the basics of regular expressions"
      ],
      "metadata": {
        "id": "ptjsAaKmVOG6"
      }
    },
    {
      "cell_type": "markdown",
      "source": [
        " **Syntax: import re**"
      ],
      "metadata": {
        "id": "msdWv3_BVnfK"
      }
    },
    {
      "cell_type": "code",
      "execution_count": null,
      "metadata": {
        "colab": {
          "base_uri": "https://localhost:8080/"
        },
        "id": "9BEN1xl7VNX4",
        "outputId": "03fb3d96-2121-4ac4-8446-8c5a7bd6cef4"
      },
      "outputs": [
        {
          "output_type": "stream",
          "name": "stdout",
          "text": [
            "['82', '3']\n"
          ]
        }
      ],
      "source": [
        "import re\n",
        "\n",
        "x = \"Probably the oldest one in this class at 82. Just finished 3 months of VBA for Excel. Dr. Chuck seems to be teaching in a way I can understand\"\n",
        "\n",
        "y = re.findall('[0-9]+', x)\n",
        "\n",
        "print(y)\n"
      ]
    },
    {
      "cell_type": "code",
      "source": [
        "y = re.findall('[AEIOU]+', x)\n",
        "print(y)"
      ],
      "metadata": {
        "colab": {
          "base_uri": "https://localhost:8080/"
        },
        "id": "ugZcMCK4Vw0X",
        "outputId": "d97ef505-68c5-423d-e019-b771588ceda8"
      },
      "execution_count": null,
      "outputs": [
        {
          "output_type": "stream",
          "name": "stdout",
          "text": [
            "['A', 'E', 'I']\n"
          ]
        }
      ]
    },
    {
      "cell_type": "code",
      "source": [
        "import re\n",
        "x = 'From : the insertion: with the one '\n",
        "\n",
        "y = re.findall('^F.+:',x)\n",
        "print(y)\n",
        "\n",
        "z = re.findall('^F.+?:', x)\n",
        "print(z)"
      ],
      "metadata": {
        "colab": {
          "base_uri": "https://localhost:8080/"
        },
        "id": "s0ZU-LzMV5DY",
        "outputId": "f16033ff-28ba-4100-be2f-0b37c6913553"
      },
      "execution_count": null,
      "outputs": [
        {
          "output_type": "stream",
          "name": "stdout",
          "text": [
            "['From : the insertion:']\n",
            "['From :']\n"
          ]
        }
      ]
    },
    {
      "cell_type": "code",
      "source": [
        "import re\n",
        "x = 'to:\tDeepak Dewani deepak.dewani@konverge.ai Mon, Feb 21, 12:25 PM (1 day ago'\n",
        "\n",
        "y = re.findall('\\S+@\\S+', x)\n",
        "print(y)"
      ],
      "metadata": {
        "colab": {
          "base_uri": "https://localhost:8080/"
        },
        "id": "rDAgMmfaV9si",
        "outputId": "2bc44c5a-1741-43c4-b2d7-1b0a934cf2bd"
      },
      "execution_count": null,
      "outputs": [
        {
          "output_type": "stream",
          "name": "stdout",
          "text": [
            "['deepak.dewani@konverge.ai']\n"
          ]
        }
      ]
    },
    {
      "cell_type": "code",
      "source": [
        "import re\n",
        "x = 'to:\tDeepak Dewani deepak.dewani@konverge.ai Mon, Feb 21, 12:25 PM (1 day ago'\n",
        "\n",
        "y = re.findall('@([^ ]*)', x)\n",
        "print(y)"
      ],
      "metadata": {
        "colab": {
          "base_uri": "https://localhost:8080/"
        },
        "id": "yUpy0nHuWCUI",
        "outputId": "df81250a-12c0-4184-fb00-32bbfb9a8c7b"
      },
      "execution_count": null,
      "outputs": [
        {
          "output_type": "stream",
          "name": "stdout",
          "text": [
            "['konverge.ai']\n"
          ]
        }
      ]
    }
  ]
}