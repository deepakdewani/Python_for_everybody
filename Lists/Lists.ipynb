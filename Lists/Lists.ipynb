{
  "nbformat": 4,
  "nbformat_minor": 0,
  "metadata": {
    "colab": {
      "name": "Lists.ipynb",
      "provenance": [],
      "collapsed_sections": [],
      "authorship_tag": "ABX9TyP6o14amzzJ8vhvNzVH5XK5",
      "include_colab_link": true
    },
    "kernelspec": {
      "name": "python3",
      "display_name": "Python 3"
    },
    "language_info": {
      "name": "python"
    }
  },
  "cells": [
    {
      "cell_type": "markdown",
      "metadata": {
        "id": "view-in-github",
        "colab_type": "text"
      },
      "source": [
        "<a href=\"https://colab.research.google.com/github/deepak-dewani/Python-for-everybody/blob/main/Lists.ipynb\" target=\"_parent\"><img src=\"https://colab.research.google.com/assets/colab-badge.svg\" alt=\"Open In Colab\"/></a>"
      ]
    },
    {
      "cell_type": "markdown",
      "source": [
        "# **Chapter - Python for Everybody**\n",
        "\n",
        "# **Lists**\n",
        "\n",
        "**A list is a sequence**\n",
        "\n",
        "Like a string, a list is a sequence of values. In a string, the values are characters; in a list, they can be any type. The values in list are called elements or sometimes items."
      ],
      "metadata": {
        "id": "SWtcST-FEM6v"
      }
    },
    {
      "cell_type": "code",
      "execution_count": null,
      "metadata": {
        "colab": {
          "base_uri": "https://localhost:8080/"
        },
        "id": "CNFwOlCxEJX_",
        "outputId": "b6e19052-aa50-45d8-81bb-62572eadc13c"
      },
      "outputs": [
        {
          "output_type": "stream",
          "name": "stdout",
          "text": [
            "[]\n"
          ]
        }
      ],
      "source": [
        "emty_list = []\n",
        "print(emty_list)"
      ]
    },
    {
      "cell_type": "code",
      "source": [
        "z = [1,9,5,8,6,5]\n",
        "print(z)"
      ],
      "metadata": {
        "colab": {
          "base_uri": "https://localhost:8080/"
        },
        "id": "W9nTRgQUEmx2",
        "outputId": "a3d7ce17-6765-44e3-cc02-677f36fda8a1"
      },
      "execution_count": null,
      "outputs": [
        {
          "output_type": "stream",
          "name": "stdout",
          "text": [
            "[1, 9, 5, 8, 6, 5]\n"
          ]
        }
      ]
    },
    {
      "cell_type": "markdown",
      "source": [
        "# **Lists are mutable**\n",
        "\n",
        "We can change the element inside the list."
      ],
      "metadata": {
        "id": "orJcWHyWExXX"
      }
    },
    {
      "cell_type": "code",
      "source": [
        "z = [1,9,5,8,6,5]\n",
        "print(z)\n",
        "\n",
        "z[0] = 2\n",
        "print(z)"
      ],
      "metadata": {
        "colab": {
          "base_uri": "https://localhost:8080/"
        },
        "id": "Uv0NGzC4Esn7",
        "outputId": "b02644dc-8f92-46a0-ed3e-d56b7b10f074"
      },
      "execution_count": null,
      "outputs": [
        {
          "output_type": "stream",
          "name": "stdout",
          "text": [
            "[1, 9, 5, 8, 6, 5]\n",
            "[2, 9, 5, 8, 6, 5]\n"
          ]
        }
      ]
    },
    {
      "cell_type": "markdown",
      "source": [
        "**Traversing a list**"
      ],
      "metadata": {
        "id": "CIluT-yEFFVZ"
      }
    },
    {
      "cell_type": "code",
      "source": [
        "for i in [1,9,5,8,6,5]:\n",
        "  print(i)"
      ],
      "metadata": {
        "colab": {
          "base_uri": "https://localhost:8080/"
        },
        "id": "A5HYcLKCE6ju",
        "outputId": "696a4f1b-7544-43c4-fd27-032403e9534d"
      },
      "execution_count": null,
      "outputs": [
        {
          "output_type": "stream",
          "name": "stdout",
          "text": [
            "1\n",
            "9\n",
            "5\n",
            "8\n",
            "6\n",
            "5\n"
          ]
        }
      ]
    },
    {
      "cell_type": "markdown",
      "source": [
        "**List operations**"
      ],
      "metadata": {
        "id": "0bfWSZ2uFdHz"
      }
    },
    {
      "cell_type": "code",
      "source": [
        "a = [1, 2, 3]\n",
        "b = [4, 5, 6]\n",
        "c = a + b\n",
        "print(c)"
      ],
      "metadata": {
        "colab": {
          "base_uri": "https://localhost:8080/"
        },
        "id": "K7qT7T6TFaoX",
        "outputId": "6a6ef757-5cd1-4e12-f904-5376d2df1bea"
      },
      "execution_count": null,
      "outputs": [
        {
          "output_type": "stream",
          "name": "stdout",
          "text": [
            "[1, 2, 3, 4, 5, 6]\n"
          ]
        }
      ]
    },
    {
      "cell_type": "code",
      "source": [
        "z = [1,9,5,8,6,5]\n",
        "y = [2,6,4,5,8,9,]\n",
        "\n",
        "x = z + y\n",
        "print(x)"
      ],
      "metadata": {
        "colab": {
          "base_uri": "https://localhost:8080/"
        },
        "id": "1G0u1FPnFmuH",
        "outputId": "19cf9635-983b-4935-e811-6b1450a4b83d"
      },
      "execution_count": null,
      "outputs": [
        {
          "output_type": "stream",
          "name": "stdout",
          "text": [
            "[1, 9, 5, 8, 6, 5, 2, 6, 4, 5, 8, 9]\n"
          ]
        }
      ]
    },
    {
      "cell_type": "markdown",
      "source": [
        "**List slices**"
      ],
      "metadata": {
        "id": "KS5Z6oKkFyE8"
      }
    },
    {
      "cell_type": "code",
      "source": [
        "z = [1,9,5,8,6,5]\n",
        "print(z[0])\n",
        "print(z[3])\n",
        "print(z[5] + z[3])\n",
        "print(len(z))\n",
        "print(max(z))\n",
        "print(min(z))\n",
        "print(sum(z))\n",
        "print(sum(z)/len(z))"
      ],
      "metadata": {
        "colab": {
          "base_uri": "https://localhost:8080/"
        },
        "id": "sAgasZI9Ftyf",
        "outputId": "bd9aa012-4ae8-4882-ea6f-9f1a46e18b79"
      },
      "execution_count": null,
      "outputs": [
        {
          "output_type": "stream",
          "name": "stdout",
          "text": [
            "1\n",
            "8\n",
            "13\n",
            "6\n",
            "9\n",
            "1\n",
            "34\n",
            "5.666666666666667\n"
          ]
        }
      ]
    },
    {
      "cell_type": "markdown",
      "source": [
        "**List methods**"
      ],
      "metadata": {
        "id": "hYsajg3zGGIk"
      }
    },
    {
      "cell_type": "code",
      "source": [
        "z = [1,9,5,8,6]\n",
        "print(z)\n",
        "z.append(5)\n",
        "print(z)\n",
        "z.append(8)\n",
        "print(z)\n",
        "z.sort()\n",
        "z.remove(z[5])\n",
        "print(z)"
      ],
      "metadata": {
        "colab": {
          "base_uri": "https://localhost:8080/"
        },
        "id": "IzOHTfd5GBUb",
        "outputId": "e6e17b1d-3e76-43fa-d2bb-4403075661f9"
      },
      "execution_count": null,
      "outputs": [
        {
          "output_type": "stream",
          "name": "stdout",
          "text": [
            "[1, 9, 5, 8, 6]\n",
            "[1, 9, 5, 8, 6, 5]\n",
            "[1, 9, 5, 8, 6, 5, 8]\n",
            "[1, 5, 5, 6, 8, 9]\n"
          ]
        }
      ]
    },
    {
      "cell_type": "markdown",
      "source": [
        "**Use of Split Function**"
      ],
      "metadata": {
        "id": "EPF2nuS6PgZ5"
      }
    },
    {
      "cell_type": "code",
      "source": [
        "r = \"Welcome to bootcamp\"\n",
        "r = r.split(\" \")\n",
        "print(r)\n",
        "\n",
        "for i in r:\n",
        "  print(i)"
      ],
      "metadata": {
        "colab": {
          "base_uri": "https://localhost:8080/"
        },
        "id": "MByUkQCjIBU3",
        "outputId": "6b15165e-a847-4fb6-90ff-6a35ae09d0b0"
      },
      "execution_count": null,
      "outputs": [
        {
          "output_type": "stream",
          "name": "stdout",
          "text": [
            "['Welcome', 'to', 'bootcamp']\n",
            "Welcome\n",
            "to\n",
            "bootcamp\n"
          ]
        }
      ]
    },
    {
      "cell_type": "code",
      "source": [
        ""
      ],
      "metadata": {
        "id": "4YdARkgIPkap"
      },
      "execution_count": null,
      "outputs": []
    }
  ]
}