{
  "nbformat": 4,
  "nbformat_minor": 0,
  "metadata": {
    "colab": {
      "name": "Using Web Services.ipynb",
      "provenance": [],
      "collapsed_sections": [],
      "authorship_tag": "ABX9TyNpFpmIOvNCTp2rJ8vTiOrP",
      "include_colab_link": true
    },
    "kernelspec": {
      "name": "python3",
      "display_name": "Python 3"
    },
    "language_info": {
      "name": "python"
    }
  },
  "cells": [
    {
      "cell_type": "markdown",
      "metadata": {
        "id": "view-in-github",
        "colab_type": "text"
      },
      "source": [
        "<a href=\"https://colab.research.google.com/github/deepak-dewani/Python-for-everybody/blob/main/Using_Web_Services.ipynb\" target=\"_parent\"><img src=\"https://colab.research.google.com/assets/colab-badge.svg\" alt=\"Open In Colab\"/></a>"
      ]
    },
    {
      "cell_type": "markdown",
      "source": [
        "# **Chapter - Python for Everybody**\n",
        "# **Using Web Services**\n",
        "Once it became easy to retrieve documents and parse documents over HTTP using programs, it did not take long to develop an approach where we started producing documents that were specifically designed to be consumed by other programs (i.e., not HTML to be displayed in a browser).\n",
        "\n",
        "There are two common formats that we use when exchanging data across the web. eXtensible Markup Language (XML) has been in use for a very long time and is best suited for exchanging document-style data. When programs just want to exchange dictionaries, lists, or other internal information with each other, they use JavaScript Object Notation (JSON)"
      ],
      "metadata": {
        "id": "b267lM3DZacs"
      }
    },
    {
      "cell_type": "markdown",
      "source": [
        "# **eXtensible Markup Language - XML**\n",
        "XML looks very similar to HTML, but XML is more structured than HTML. Here is a sample of an XML document:"
      ],
      "metadata": {
        "id": "c4BgB6MzZnlz"
      }
    },
    {
      "cell_type": "code",
      "execution_count": null,
      "metadata": {
        "colab": {
          "base_uri": "https://localhost:8080/",
          "height": 35
        },
        "id": "QHvf4p0XZWox",
        "outputId": "17bde595-4449-4f14-f69b-b0f04f351a68"
      },
      "outputs": [
        {
          "output_type": "execute_result",
          "data": {
            "application/vnd.google.colaboratory.intrinsic+json": {
              "type": "string"
            },
            "text/plain": [
              "'<person>\\n<name>Deepak</name>\\n<phone type= \"int1\">\\n  +91 8669022\\n</phone>\\n<email hide = \"Deepak.dewani@konverge.ai\"/>\\n</person>'"
            ]
          },
          "metadata": {},
          "execution_count": 3
        }
      ],
      "source": [
        "'''<person>\n",
        "<name>Deepak</name>\n",
        "<phone type= \"int1\">\n",
        "  +91 8669022\n",
        "</phone>\n",
        "<email hide = \"Deepak.dewani@konverge.ai\"/>\n",
        "</person>'''"
      ]
    },
    {
      "cell_type": "markdown",
      "source": [
        "# **Parsing XML**"
      ],
      "metadata": {
        "id": "ZVzBt4E_aD7T"
      }
    },
    {
      "cell_type": "code",
      "source": [
        "import xml.etree.ElementTree as ET\n",
        "\n",
        "data = ''' <person>\n",
        "<name>Deepak</name>\n",
        "<phone type= \"int1\">\n",
        "  +91 8669022\n",
        "</phone>\n",
        "<email hide = \"Deepak.dewani@konverge.ai\"/>\n",
        "</person>'''\n",
        "\n",
        "tree = ET.fromstring(data)\n",
        "print(\"Name: \", tree.find('name').text)\n",
        "print(\"Attr: \", tree.find(\"email\").get(\"hide\"))"
      ],
      "metadata": {
        "colab": {
          "base_uri": "https://localhost:8080/"
        },
        "id": "6rBpTBCNZ2LL",
        "outputId": "0376a96e-5b9b-403c-8562-bacc554ad9bf"
      },
      "execution_count": null,
      "outputs": [
        {
          "output_type": "stream",
          "name": "stdout",
          "text": [
            "Name:  Deepak\n",
            "Attr:  Deepak.dewani@konverge.ai\n"
          ]
        }
      ]
    },
    {
      "cell_type": "markdown",
      "source": [
        "# **Looping through nodes**"
      ],
      "metadata": {
        "id": "46G2laAkaRD9"
      }
    },
    {
      "cell_type": "code",
      "source": [
        "import xml.etree.ElementTree as ET\n",
        "\n",
        "data = ''' <stuff>\n",
        "<users>\n",
        "    <user x = \"2\">\n",
        "        <id>001</id>\n",
        "        <name>Deepak</name>\n",
        "    </user>\n",
        "    <user x = \"7\">\n",
        "        <id>002</id>\n",
        "        <name>Ram</name>\n",
        "    </user>\n",
        "</users>\n",
        "</stuff>'''\n",
        "\n",
        "stuff = ET.fromstring(data)\n",
        "lst = stuff.findall(\"users/user\")\n",
        "\n",
        "print('User Count: ', len(lst))\n",
        "\n",
        "for items in lst:\n",
        "  print(\"Name: \", items.find('name').text)\n",
        "  print(\"ID: \", items.find('id').text)\n",
        "  print(\"Attr: \", items.get(\"x\"))"
      ],
      "metadata": {
        "colab": {
          "base_uri": "https://localhost:8080/"
        },
        "id": "sX5kaC81aITj",
        "outputId": "60667525-180b-44ac-ca9b-ec79bc2840a9"
      },
      "execution_count": null,
      "outputs": [
        {
          "output_type": "stream",
          "name": "stdout",
          "text": [
            "User Count:  2\n",
            "Name:  Deepak\n",
            "ID:  001\n",
            "Attr:  2\n",
            "Name:  Ram\n",
            "ID:  002\n",
            "Attr:  7\n"
          ]
        }
      ]
    },
    {
      "cell_type": "markdown",
      "source": [
        "# **JavaScript Object Notation - JSON**\n",
        "The JSON format was inspired by the object and array format used in the JavaScript language. But since Python was invented before JavaScript, Python’s syntax for dictionaries and lists influenced the syntax of JSON. So the format of JSON is nearly identical to a combination of Python lists and dictionaries.\n",
        "\n",
        "Here is a JSON encoding that is roughly equivalent to the simple XML from above:"
      ],
      "metadata": {
        "id": "4Ml1qVzfaab6"
      }
    },
    {
      "cell_type": "code",
      "source": [
        "data = ''' {\n",
        "  \"name\" : \"Deepak\",\n",
        "  \" phone\" : {\n",
        "                \"type\" : \"int1\",\n",
        "                \"number\" : \"+91 86690229\"\n",
        "              },\n",
        "              \"email\" : {\n",
        "                          \"hide\" : \"deepak.dewani@konverge.ai\"\n",
        "                        }\n",
        "            }'''"
      ],
      "metadata": {
        "id": "nEUFMzBtaVj4"
      },
      "execution_count": null,
      "outputs": []
    },
    {
      "cell_type": "markdown",
      "source": [
        "# **Parsing JSON**"
      ],
      "metadata": {
        "id": "GOF8sENeapLk"
      }
    },
    {
      "cell_type": "code",
      "source": [
        "import json\n",
        "data = ''' {\n",
        "  \"name\" : \"Deepak\",\n",
        "  \" phone\" : {\n",
        "                \"type\" : \"int1\",\n",
        "                \"number\" : \"+91 86690229\"\n",
        "              },\n",
        "              \"email\" : {\n",
        "                          \"hide\" : \"deepak.dewani@konverge.ai\"\n",
        "                        }\n",
        "            }'''\n",
        "\n",
        "info = json.loads(data)\n",
        "print(\"Name: \", info[\"name\"])\n",
        "print(\"Hide: \", info[\"email\"][\"hide\"])"
      ],
      "metadata": {
        "colab": {
          "base_uri": "https://localhost:8080/"
        },
        "id": "yKH0BINqaj9t",
        "outputId": "db6fc689-2827-4a85-e288-7904c75cb0a7"
      },
      "execution_count": null,
      "outputs": [
        {
          "output_type": "stream",
          "name": "stdout",
          "text": [
            "Name:  Deepak\n",
            "Hide:  deepak.dewani@konverge.ai\n"
          ]
        }
      ]
    },
    {
      "cell_type": "code",
      "source": [
        " import json\n",
        " \n",
        "data = ''' [\n",
        "  {\n",
        "  \"id\" : \"001\",\n",
        "  \"x\" : \"2\",\n",
        "  \"name\" : \"Deepak\"\n",
        "},\n",
        "  {\n",
        "  \"id\" : \"007\",\n",
        "  \"x\" : \" 007\",\n",
        "  \"name\" : \"Ram\"\n",
        "  }\n",
        "]'''\n",
        "\n",
        "info = json.loads(data)\n",
        "print(\"User count: \", len(info))\n",
        "for items in info:\n",
        "  print(\"Name: \", items[\"name\"])\n",
        "  print(\"Id: \", items[\"id\"])\n",
        "  print(\"Attr: \", items[\"x\"])"
      ],
      "metadata": {
        "colab": {
          "base_uri": "https://localhost:8080/"
        },
        "id": "jYnPK1wias5a",
        "outputId": "b3bc8b91-0c75-4c79-a5ee-3da5c827a275"
      },
      "execution_count": null,
      "outputs": [
        {
          "output_type": "stream",
          "name": "stdout",
          "text": [
            "User count:  2\n",
            "Name:  Deepak\n",
            "Id:  001\n",
            "Attr:  2\n",
            "Name:  Ram\n",
            "Id:  007\n",
            "Attr:   007\n"
          ]
        }
      ]
    },
    {
      "cell_type": "code",
      "source": [
        ""
      ],
      "metadata": {
        "id": "y5PUlzuDbCGW"
      },
      "execution_count": null,
      "outputs": []
    }
  ]
}