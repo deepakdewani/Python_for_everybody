{
  "nbformat": 4,
  "nbformat_minor": 0,
  "metadata": {
    "colab": {
      "name": "Dictonaries.ipynb",
      "provenance": [],
      "collapsed_sections": [],
      "authorship_tag": "ABX9TyMG4mGoNSwHkyGejnwoEYpI",
      "include_colab_link": true
    },
    "kernelspec": {
      "name": "python3",
      "display_name": "Python 3"
    },
    "language_info": {
      "name": "python"
    }
  },
  "cells": [
    {
      "cell_type": "markdown",
      "metadata": {
        "id": "view-in-github",
        "colab_type": "text"
      },
      "source": [
        "<a href=\"https://colab.research.google.com/github/deepak-dewani/Python-for-everybody/blob/main/Dictonaries.ipynb\" target=\"_parent\"><img src=\"https://colab.research.google.com/assets/colab-badge.svg\" alt=\"Open In Colab\"/></a>"
      ]
    },
    {
      "cell_type": "markdown",
      "source": [
        "# **Chapter - Python for Everybody**\n",
        "# **Dictonaries**\n",
        "A dictionary is like a list, but more general. In a list, the index positions have to be integers; in a dictionary, the indices can be (almost) any type.\n",
        "\n",
        "You can think of a dictionary as a mapping between a set of indices (which are called keys) and a set of values. Each key maps to a value. The association of a key and a value is called a key-value pair or sometimes an item."
      ],
      "metadata": {
        "id": "-Hnf3dblQTa0"
      }
    },
    {
      "cell_type": "code",
      "execution_count": null,
      "metadata": {
        "colab": {
          "base_uri": "https://localhost:8080/"
        },
        "id": "T2Cts9WcQQcy",
        "outputId": "8e3b2fac-e08b-4b80-f5c5-576911a2783f"
      },
      "outputs": [
        {
          "output_type": "stream",
          "name": "stdout",
          "text": [
            "{}\n"
          ]
        }
      ],
      "source": [
        "j = dict()\n",
        "print(j)"
      ]
    },
    {
      "cell_type": "markdown",
      "source": [
        "The curly brackets, { }, represent an empty dictionary. To add items to the dictionary, you can use square brackets:"
      ],
      "metadata": {
        "id": "_-MD_ZYOQtxi"
      }
    },
    {
      "cell_type": "code",
      "source": [
        "j['mobile']= 'samsung'\n",
        "j['car']= 'toyota'\n",
        "j['laptop']= 'asus'\n",
        "\n",
        "print(j)"
      ],
      "metadata": {
        "colab": {
          "base_uri": "https://localhost:8080/"
        },
        "id": "7fPxsKHoQmSX",
        "outputId": "1af41375-8c77-4e3d-abbf-c49159e1182b"
      },
      "execution_count": null,
      "outputs": [
        {
          "output_type": "stream",
          "name": "stdout",
          "text": [
            "{'mobile': 'samsung', 'car': 'toyota', 'laptop': 'asus'}\n"
          ]
        }
      ]
    },
    {
      "cell_type": "markdown",
      "source": [
        "# **Dictonaries are mutable**"
      ],
      "metadata": {
        "id": "iKmYo9NTRZeK"
      }
    },
    {
      "cell_type": "code",
      "source": [
        "print(j)\n",
        "j['mobile']= \"apple\"\n",
        "print(j)\n"
      ],
      "metadata": {
        "colab": {
          "base_uri": "https://localhost:8080/"
        },
        "id": "WK4CcM0FQyns",
        "outputId": "8762fa7e-279e-4e9b-f042-2aa70978ec38"
      },
      "execution_count": null,
      "outputs": [
        {
          "output_type": "stream",
          "name": "stdout",
          "text": [
            "{'mobile': 'samsung', 'car': 'toyota', 'laptop': 'asus'}\n",
            "{'mobile': 'apple', 'car': 'toyota', 'laptop': 'asus'}\n"
          ]
        }
      ]
    },
    {
      "cell_type": "markdown",
      "source": [
        "# **Looping and dictionaries**"
      ],
      "metadata": {
        "id": "f--iVZ7-Rx32"
      }
    },
    {
      "cell_type": "code",
      "source": [
        "count = {}\n",
        "names = ['abs', 'bss', 'knn', 'okol', 'abs', 'abs', 'bss']\n",
        "for name in names:\n",
        "  if name not in count:\n",
        "    count[name] = 1\n",
        "  else:\n",
        "    count[name]= count[name] + 1\n",
        "print(count)"
      ],
      "metadata": {
        "colab": {
          "base_uri": "https://localhost:8080/"
        },
        "id": "hi-sSwO5RiIb",
        "outputId": "dcabfc15-9a6e-4dc8-dba6-f7bdd3c0186d"
      },
      "execution_count": null,
      "outputs": [
        {
          "output_type": "stream",
          "name": "stdout",
          "text": [
            "{'abs': 3, 'bss': 2, 'knn': 1, 'okol': 1}\n"
          ]
        }
      ]
    },
    {
      "cell_type": "markdown",
      "source": [
        "# **GET method**"
      ],
      "metadata": {
        "id": "sv-5U6XpR_4J"
      }
    },
    {
      "cell_type": "code",
      "source": [
        "count = dict()\n",
        "line = input(\"Enter the line: \")\n",
        "words= line.split(\" \")\n",
        "\n",
        "print(\"Words:\", words)\n",
        "\n",
        "for word in words:\n",
        "  count[word]= count.get(word,0) + 1\n",
        "\n",
        "print(\"Count: \", count)"
      ],
      "metadata": {
        "colab": {
          "base_uri": "https://localhost:8080/"
        },
        "id": "lq-DlH0NR71H",
        "outputId": "1b59abd2-d6d2-42f5-ff6b-7ea7b49ef710"
      },
      "execution_count": null,
      "outputs": [
        {
          "output_type": "stream",
          "name": "stdout",
          "text": [
            "Enter the line: This Python 3 tutorial course aims to teach everyone the basics of programming computers using Python. The course has no pre-requisites and avoids all but the simplest mathematics.\n",
            "Words: ['This', 'Python', '3', 'tutorial', 'course', 'aims', 'to', 'teach', 'everyone', 'the', 'basics', 'of', 'programming', 'computers', 'using', 'Python.', 'The', 'course', 'has', 'no', 'pre-requisites', 'and', 'avoids', 'all', 'but', 'the', 'simplest', 'mathematics.']\n",
            "Count:  {'This': 1, 'Python': 1, '3': 1, 'tutorial': 1, 'course': 2, 'aims': 1, 'to': 1, 'teach': 1, 'everyone': 1, 'the': 2, 'basics': 1, 'of': 1, 'programming': 1, 'computers': 1, 'using': 1, 'Python.': 1, 'The': 1, 'has': 1, 'no': 1, 'pre-requisites': 1, 'and': 1, 'avoids': 1, 'all': 1, 'but': 1, 'simplest': 1, 'mathematics.': 1}\n"
          ]
        }
      ]
    }
  ]
}