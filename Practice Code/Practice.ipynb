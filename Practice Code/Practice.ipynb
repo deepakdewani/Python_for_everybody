{
  "nbformat": 4,
  "nbformat_minor": 0,
  "metadata": {
    "colab": {
      "name": "Practice.ipynb",
      "provenance": [],
      "collapsed_sections": [],
      "authorship_tag": "ABX9TyNNyqhwt0hKtOkyqvz8WTEM",
      "include_colab_link": true
    },
    "kernelspec": {
      "name": "python3",
      "display_name": "Python 3"
    },
    "language_info": {
      "name": "python"
    }
  },
  "cells": [
    {
      "cell_type": "markdown",
      "metadata": {
        "id": "view-in-github",
        "colab_type": "text"
      },
      "source": [
        "<a href=\"https://colab.research.google.com/github/deepak-dewani/Python-for-everybody/blob/main/Practice.ipynb\" target=\"_parent\"><img src=\"https://colab.research.google.com/assets/colab-badge.svg\" alt=\"Open In Colab\"/></a>"
      ]
    },
    {
      "cell_type": "markdown",
      "source": [
        "**Practice Session**"
      ],
      "metadata": {
        "id": "BD1urBQadiLT"
      }
    },
    {
      "cell_type": "markdown",
      "source": [
        "### **Chapter 01**\n",
        "**Printing the Hello World**"
      ],
      "metadata": {
        "id": "BozPTXgUdr3g"
      }
    },
    {
      "cell_type": "code",
      "execution_count": null,
      "metadata": {
        "colab": {
          "base_uri": "https://localhost:8080/"
        },
        "id": "y7ABXj-GKeX5",
        "outputId": "dd8cf166-a64f-447b-9e42-c4c835927c10"
      },
      "outputs": [
        {
          "output_type": "stream",
          "name": "stdout",
          "text": [
            "Hello World\n",
            "Welcome to Bootcamp\n"
          ]
        }
      ],
      "source": [
        "#Printing the Hello World\n",
        "\n",
        "print(\"Hello World\")\n",
        "\n",
        "\n",
        "print(\"Welcome to Bootcamp\")"
      ]
    },
    {
      "cell_type": "markdown",
      "source": [
        "### **Chapter 02**\n",
        "**Assignment and Addition**"
      ],
      "metadata": {
        "id": "Ab8SLa8Hd_FX"
      }
    },
    {
      "cell_type": "code",
      "source": [
        "#Assignment and Addition \n",
        "\n",
        "x =2\n",
        "x= x+2\n",
        "print(x)"
      ],
      "metadata": {
        "colab": {
          "base_uri": "https://localhost:8080/"
        },
        "id": "hKK_IVJ4KlkP",
        "outputId": "c647b287-aad5-4f8f-8158-e4d1ae80d322"
      },
      "execution_count": null,
      "outputs": [
        {
          "output_type": "stream",
          "name": "stdout",
          "text": [
            "4\n"
          ]
        }
      ]
    },
    {
      "cell_type": "markdown",
      "source": [
        "**User Input**"
      ],
      "metadata": {
        "id": "5g7nAeWUeTcz"
      }
    },
    {
      "cell_type": "code",
      "source": [
        "a = input(\"Enter your Name: \")\n",
        "print(\"Your name is\", a)\n",
        "b= input(\"Enter your age: \")\n",
        "print(\"Your age is \",b)\n",
        "c= input(\"Enter your Date of birth: \")\n",
        "print(\"Your D.O.B is\", c)\n"
      ],
      "metadata": {
        "colab": {
          "base_uri": "https://localhost:8080/"
        },
        "id": "3eekmAAzKtMT",
        "outputId": "43734c78-c400-4ee5-a586-73227719b6fe"
      },
      "execution_count": null,
      "outputs": [
        {
          "output_type": "stream",
          "name": "stdout",
          "text": [
            "Enter your Name: Deepak\n",
            "Your name is Deepak\n",
            "Enter your age: 28\n",
            "Your age is  28\n",
            "Enter your Date of birth: 21.09.1994\n",
            "Your D.O.B is 21.09.1994\n"
          ]
        }
      ]
    },
    {
      "cell_type": "markdown",
      "source": [
        "# **Chapter 03**\n",
        "**Variable, Statement and Expression**\n"
      ],
      "metadata": {
        "id": "5kDpVtlYfR6d"
      }
    },
    {
      "cell_type": "code",
      "source": [
        "a = 27\n",
        "print(a)"
      ],
      "metadata": {
        "colab": {
          "base_uri": "https://localhost:8080/"
        },
        "id": "PpUEsKbrLAxN",
        "outputId": "abb1ae50-3cf8-4412-b448-3dabce00d8a4"
      },
      "execution_count": null,
      "outputs": [
        {
          "output_type": "stream",
          "name": "stdout",
          "text": [
            "27\n"
          ]
        }
      ]
    },
    {
      "cell_type": "code",
      "source": [
        "b = '123'\n",
        "print(b)\n",
        "type(b)"
      ],
      "metadata": {
        "colab": {
          "base_uri": "https://localhost:8080/"
        },
        "id": "dV_-E9ZkLldR",
        "outputId": "3ba0f035-b734-4909-c76e-fd1c042edcec"
      },
      "execution_count": null,
      "outputs": [
        {
          "output_type": "stream",
          "name": "stdout",
          "text": [
            "123\n"
          ]
        },
        {
          "output_type": "execute_result",
          "data": {
            "text/plain": [
              "str"
            ]
          },
          "metadata": {},
          "execution_count": 5
        }
      ]
    },
    {
      "cell_type": "code",
      "source": [
        "x = '12345'\n",
        "x = int(x)\n",
        "\n",
        "y = x + 2\n",
        "print(y)\n",
        "type(y)"
      ],
      "metadata": {
        "colab": {
          "base_uri": "https://localhost:8080/"
        },
        "id": "5TKrOjGlL3N7",
        "outputId": "dd6d4a3d-15a7-4449-f0a1-b08b0ebd1ce9"
      },
      "execution_count": null,
      "outputs": [
        {
          "output_type": "stream",
          "name": "stdout",
          "text": [
            "12347\n"
          ]
        },
        {
          "output_type": "execute_result",
          "data": {
            "text/plain": [
              "int"
            ]
          },
          "metadata": {},
          "execution_count": 7
        }
      ]
    },
    {
      "cell_type": "markdown",
      "source": [
        "**Conditional operator**"
      ],
      "metadata": {
        "id": "SVuhUMzog2S6"
      }
    },
    {
      "cell_type": "code",
      "source": [
        "# Conditional Operator\n",
        "# Check the number is greater than 20 or not?\n",
        "\n",
        "x = int(input(\"Enter the number: \"))\n",
        "if x < 20:\n",
        "  print(\"Number is smaller than 20\")\n",
        "elif x ==20:\n",
        "  print(\"Number is 20\")\n",
        "else:\n",
        "  print(\"Number is larger than 20\")"
      ],
      "metadata": {
        "colab": {
          "base_uri": "https://localhost:8080/"
        },
        "id": "0ATti1wdfzES",
        "outputId": "e14f3165-b662-4c7d-fbdf-670179966bd1"
      },
      "execution_count": null,
      "outputs": [
        {
          "output_type": "stream",
          "name": "stdout",
          "text": [
            "Enter the number: 5\n",
            "Number is smaller than 20\n"
          ]
        }
      ]
    },
    {
      "cell_type": "markdown",
      "source": [
        "**Repeated operator**"
      ],
      "metadata": {
        "id": "Leh5VmvVhmeB"
      }
    },
    {
      "cell_type": "code",
      "source": [
        "x = int(input(\"Enter the number: \"))\n",
        "while x > 0:\n",
        "  print(x)\n",
        "  x = x - 1\n",
        "print(\"Endpoint!!\")"
      ],
      "metadata": {
        "colab": {
          "base_uri": "https://localhost:8080/"
        },
        "id": "OYPHq_bshaKR",
        "outputId": "b179eb87-0ed8-40f4-8946-256db8d3aebe"
      },
      "execution_count": null,
      "outputs": [
        {
          "output_type": "stream",
          "name": "stdout",
          "text": [
            "Enter the number: 6\n",
            "6\n",
            "5\n",
            "4\n",
            "3\n",
            "2\n",
            "1\n",
            "Endpoint!!\n"
          ]
        }
      ]
    },
    {
      "cell_type": "markdown",
      "source": [
        "# **Chapter 04**\n",
        "**Function**"
      ],
      "metadata": {
        "id": "pEwSXAIyvA0c"
      }
    },
    {
      "cell_type": "code",
      "source": [
        "def funct():\n",
        "  print(\"Welcome to bootcamp\")\n",
        "  print(\"Welcome to Konverge AI\")\n",
        "\n",
        "funct()\n"
      ],
      "metadata": {
        "colab": {
          "base_uri": "https://localhost:8080/"
        },
        "id": "-0uCTphZvbJc",
        "outputId": "db294640-3f65-4015-c36f-259cc37d9ac1"
      },
      "execution_count": null,
      "outputs": [
        {
          "output_type": "stream",
          "name": "stdout",
          "text": [
            "Welcome to bootcamp\n",
            "Welcome to Konverge AI\n"
          ]
        }
      ]
    },
    {
      "cell_type": "code",
      "source": [
        "def greet(Car):\n",
        "  if Car == \"Toyota\":\n",
        "    print(\"Japan\")\n",
        "  if Car == \"Audi\":\n",
        "    print(\"Germany\")\n",
        "  if Car == \"Ford\":\n",
        "    print(\"USA\")\n",
        "\n",
        "\n",
        "greet(\"Audi\")\n"
      ],
      "metadata": {
        "colab": {
          "base_uri": "https://localhost:8080/"
        },
        "id": "UydAgdBEu-qO",
        "outputId": "20afea55-8c83-4114-834e-3720358eed78"
      },
      "execution_count": null,
      "outputs": [
        {
          "output_type": "stream",
          "name": "stdout",
          "text": [
            "Germany\n"
          ]
        }
      ]
    },
    {
      "cell_type": "markdown",
      "source": [
        "# **Chapter 05**\n",
        "**Looping and iteration**"
      ],
      "metadata": {
        "id": "Psq8ij4RkksO"
      }
    },
    {
      "cell_type": "code",
      "source": [
        "for i in (5,4,3,2,1):\n",
        "  print(i)"
      ],
      "metadata": {
        "id": "TmdTOP62iKwD",
        "colab": {
          "base_uri": "https://localhost:8080/"
        },
        "outputId": "88b0fcf9-4965-41b7-851c-ffef835c9311"
      },
      "execution_count": null,
      "outputs": [
        {
          "output_type": "stream",
          "name": "stdout",
          "text": [
            "5\n",
            "4\n",
            "3\n",
            "2\n",
            "1\n"
          ]
        }
      ]
    },
    {
      "cell_type": "code",
      "source": [
        "for i in range(0,6):\n",
        "  print(i)"
      ],
      "metadata": {
        "colab": {
          "base_uri": "https://localhost:8080/"
        },
        "id": "XBsuYGWbkwZi",
        "outputId": "d85e528e-a2d7-4a46-c12d-32619b46c078"
      },
      "execution_count": null,
      "outputs": [
        {
          "output_type": "stream",
          "name": "stdout",
          "text": [
            "0\n",
            "1\n",
            "2\n",
            "3\n",
            "4\n",
            "5\n"
          ]
        }
      ]
    },
    {
      "cell_type": "code",
      "source": [
        "x = input(\"Enter the text: \")\n",
        "\n",
        "print(len(x))\n",
        "\n",
        "\n",
        "\n",
        "\n"
      ],
      "metadata": {
        "colab": {
          "base_uri": "https://localhost:8080/"
        },
        "id": "FRF_nrGhk76S",
        "outputId": "de9c1a59-8bfb-40e5-f824-3648cf593294"
      },
      "execution_count": null,
      "outputs": [
        {
          "output_type": "stream",
          "name": "stdout",
          "text": [
            "Enter the text: Print\n",
            "5\n"
          ]
        }
      ]
    },
    {
      "cell_type": "code",
      "source": [
        "x = [\"Deepak\", \"Sally\", \"Kunal\"]\n",
        "\n",
        "\n",
        "for i in x:\n",
        "  print(\"Welcome to konverge Bootcamp: \", i)"
      ],
      "metadata": {
        "colab": {
          "base_uri": "https://localhost:8080/"
        },
        "id": "VpEkd8kdsc_x",
        "outputId": "b10bc71b-01bb-4f49-93a7-d1f5798759ac"
      },
      "execution_count": null,
      "outputs": [
        {
          "output_type": "stream",
          "name": "stdout",
          "text": [
            "Welcome to konverge Bootcamp:  Deepak\n",
            "Welcome to konverge Bootcamp:  Sally\n",
            "Welcome to konverge Bootcamp:  Kunal\n"
          ]
        }
      ]
    },
    {
      "cell_type": "code",
      "source": [
        "# Counting\n",
        "\n",
        "num = 0\n",
        "print(\"Before: \", num)\n",
        "for i in [1,5,6,8,9,15,45,50]:\n",
        "  num = num + 1\n",
        "print(num,\"-->\", i)\n",
        "\n",
        "print(\"After: \", num)"
      ],
      "metadata": {
        "colab": {
          "base_uri": "https://localhost:8080/"
        },
        "id": "nRvsaKo_xztQ",
        "outputId": "ff97bf53-8359-4fd3-8b1c-2ab5262f3557"
      },
      "execution_count": null,
      "outputs": [
        {
          "output_type": "stream",
          "name": "stdout",
          "text": [
            "Before:  0\n",
            "8 --> 50\n",
            "After:  8\n"
          ]
        }
      ]
    },
    {
      "cell_type": "code",
      "source": [
        "# Average\n",
        "\n",
        "x = 0\n",
        "y = 0\n",
        "print(\"Before :\", x, y)\n",
        "for z in [10,98,55,66,85,41,21,5]:\n",
        "  x = x + 1\n",
        "  y = y + z\n",
        "  print(x,\"-->\",y,z)\n",
        "print(\"after: \", x,y ,(y/x))"
      ],
      "metadata": {
        "colab": {
          "base_uri": "https://localhost:8080/"
        },
        "id": "w3WDXvsm0q1J",
        "outputId": "70569af6-a787-47e4-9960-30776b114ca5"
      },
      "execution_count": null,
      "outputs": [
        {
          "output_type": "stream",
          "name": "stdout",
          "text": [
            "Before : 0 0\n",
            "1 --> 10 10\n",
            "2 --> 108 98\n",
            "3 --> 163 55\n",
            "4 --> 229 66\n",
            "5 --> 314 85\n",
            "6 --> 355 41\n",
            "7 --> 376 21\n",
            "8 --> 381 5\n",
            "after:  8 381 47.625\n"
          ]
        }
      ]
    },
    {
      "cell_type": "code",
      "source": [
        "# Filtering\n",
        "\n",
        "for i in range(0,20):\n",
        "  if i > 15:\n",
        "    print(i)"
      ],
      "metadata": {
        "colab": {
          "base_uri": "https://localhost:8080/"
        },
        "id": "Ct2A_c0L2V0r",
        "outputId": "c12315e7-f622-4511-d99d-139b741cd328"
      },
      "execution_count": null,
      "outputs": [
        {
          "output_type": "stream",
          "name": "stdout",
          "text": [
            "16\n",
            "17\n",
            "18\n",
            "19\n"
          ]
        }
      ]
    },
    {
      "cell_type": "code",
      "source": [
        "for i in range(0,21):\n",
        "  if i > 15:\n",
        "    print(i)"
      ],
      "metadata": {
        "colab": {
          "base_uri": "https://localhost:8080/"
        },
        "id": "oM83IT6A3VHY",
        "outputId": "973c76b6-ddae-429f-a25d-00107ee74044"
      },
      "execution_count": null,
      "outputs": [
        {
          "output_type": "stream",
          "name": "stdout",
          "text": [
            "16\n",
            "17\n",
            "18\n",
            "19\n",
            "20\n"
          ]
        }
      ]
    },
    {
      "cell_type": "code",
      "source": [
        "# Comparing\n",
        "\n",
        "for i in range(0,6):\n",
        "  if i >= 3:\n",
        "    print(i, \"true\")\n"
      ],
      "metadata": {
        "colab": {
          "base_uri": "https://localhost:8080/"
        },
        "id": "PgsO5kvv3e2f",
        "outputId": "f9523cb0-ceb6-4700-c0d9-336733150b34"
      },
      "execution_count": null,
      "outputs": [
        {
          "output_type": "stream",
          "name": "stdout",
          "text": [
            "3 true\n",
            "4 true\n",
            "5 true\n"
          ]
        }
      ]
    },
    {
      "cell_type": "markdown",
      "source": [
        "# **Chapter 06**\n",
        "**Strings**"
      ],
      "metadata": {
        "id": "ZTDmUAtB6N-G"
      }
    },
    {
      "cell_type": "code",
      "source": [
        "Car = \"Toyota\"\n",
        "\n",
        "letter = Car[2]\n",
        "print(letter)"
      ],
      "metadata": {
        "colab": {
          "base_uri": "https://localhost:8080/"
        },
        "id": "r-Te9omK4b4Z",
        "outputId": "d418f7cc-5aec-4820-9da2-ad1d8db04a0a"
      },
      "execution_count": null,
      "outputs": [
        {
          "output_type": "stream",
          "name": "stdout",
          "text": [
            "y\n"
          ]
        }
      ]
    },
    {
      "cell_type": "code",
      "source": [
        "car = \"Toyota\"\n",
        "n = 0\n",
        "while n < len(car):\n",
        "  y = car[n]\n",
        "  print(n, y)\n",
        "  n = n + 1"
      ],
      "metadata": {
        "colab": {
          "base_uri": "https://localhost:8080/"
        },
        "id": "RAtLbX8x6jf1",
        "outputId": "9c74ec91-07db-4832-b545-2d424dc1e619"
      },
      "execution_count": null,
      "outputs": [
        {
          "output_type": "stream",
          "name": "stdout",
          "text": [
            "0 T\n",
            "1 o\n",
            "2 y\n",
            "3 o\n",
            "4 t\n",
            "5 a\n"
          ]
        }
      ]
    },
    {
      "cell_type": "code",
      "source": [
        "car = \"toyota\"\n",
        "for i in car:\n",
        "  print(i)"
      ],
      "metadata": {
        "colab": {
          "base_uri": "https://localhost:8080/"
        },
        "id": "egbT1Hsb7iYq",
        "outputId": "43bf5167-bfdc-44fb-a6a2-15dbc6c9a968"
      },
      "execution_count": null,
      "outputs": [
        {
          "output_type": "stream",
          "name": "stdout",
          "text": [
            "t\n",
            "o\n",
            "y\n",
            "o\n",
            "t\n",
            "a\n"
          ]
        }
      ]
    },
    {
      "cell_type": "code",
      "source": [
        "#string formatting\n",
        "\n",
        "name = \"deepak dewani\"\n",
        "print(name[0:])\n",
        "print(name[0:1])\n",
        "print(name[0:4])\n",
        "print(name[3:])\n",
        "print(name[7:50])\n",
        "print(name[::-1])\n",
        "\n"
      ],
      "metadata": {
        "colab": {
          "base_uri": "https://localhost:8080/"
        },
        "id": "ukAEniZ4La8a",
        "outputId": "989a6191-bb76-4ec6-8dfb-82f0eb241d3a"
      },
      "execution_count": null,
      "outputs": [
        {
          "output_type": "stream",
          "name": "stdout",
          "text": [
            "deepak dewani\n",
            "d\n",
            "deep\n",
            "pak dewani\n",
            "dewani\n",
            "inawed kapeed\n",
            "\n"
          ]
        }
      ]
    },
    {
      "cell_type": "code",
      "source": [
        "# String functions\n",
        "\n",
        "name = \"Deepak Dewani\"\n",
        "\n",
        "print(name.lower())\n",
        "print(name.upper())\n",
        "print(name.capitalize())\n",
        "print(name.isalnum())\n",
        "print(name.find(\"p\"))\n",
        "print(name.find(\"t\"))\n",
        "print(name.replace(\"Deepak\",\"deepak\"))\n",
        "print(name.replace(\"e\",\"p\"))\n",
        "print(name.startswith(\"e\"))\n"
      ],
      "metadata": {
        "colab": {
          "base_uri": "https://localhost:8080/"
        },
        "id": "VwiPeejhMAGq",
        "outputId": "de3d7f24-1f58-46a6-f1b6-e4778ecdd1f5"
      },
      "execution_count": null,
      "outputs": [
        {
          "output_type": "stream",
          "name": "stdout",
          "text": [
            "deepak dewani\n",
            "DEEPAK DEWANI\n",
            "Deepak dewani\n",
            "False\n",
            "3\n",
            "-1\n",
            "deepak Dewani\n",
            "Dpppak Dpwani\n",
            "False\n"
          ]
        }
      ]
    },
    {
      "cell_type": "code",
      "source": [
        "dir(name)"
      ],
      "metadata": {
        "colab": {
          "base_uri": "https://localhost:8080/"
        },
        "id": "0ZE12tSTU5QD",
        "outputId": "a2d9e46e-f45a-4481-8ae6-f396c850f1bb"
      },
      "execution_count": null,
      "outputs": [
        {
          "output_type": "execute_result",
          "data": {
            "text/plain": [
              "['__add__',\n",
              " '__class__',\n",
              " '__contains__',\n",
              " '__delattr__',\n",
              " '__dir__',\n",
              " '__doc__',\n",
              " '__eq__',\n",
              " '__format__',\n",
              " '__ge__',\n",
              " '__getattribute__',\n",
              " '__getitem__',\n",
              " '__getnewargs__',\n",
              " '__gt__',\n",
              " '__hash__',\n",
              " '__init__',\n",
              " '__init_subclass__',\n",
              " '__iter__',\n",
              " '__le__',\n",
              " '__len__',\n",
              " '__lt__',\n",
              " '__mod__',\n",
              " '__mul__',\n",
              " '__ne__',\n",
              " '__new__',\n",
              " '__reduce__',\n",
              " '__reduce_ex__',\n",
              " '__repr__',\n",
              " '__rmod__',\n",
              " '__rmul__',\n",
              " '__setattr__',\n",
              " '__sizeof__',\n",
              " '__str__',\n",
              " '__subclasshook__',\n",
              " 'capitalize',\n",
              " 'casefold',\n",
              " 'center',\n",
              " 'count',\n",
              " 'encode',\n",
              " 'endswith',\n",
              " 'expandtabs',\n",
              " 'find',\n",
              " 'format',\n",
              " 'format_map',\n",
              " 'index',\n",
              " 'isalnum',\n",
              " 'isalpha',\n",
              " 'isascii',\n",
              " 'isdecimal',\n",
              " 'isdigit',\n",
              " 'isidentifier',\n",
              " 'islower',\n",
              " 'isnumeric',\n",
              " 'isprintable',\n",
              " 'isspace',\n",
              " 'istitle',\n",
              " 'isupper',\n",
              " 'join',\n",
              " 'ljust',\n",
              " 'lower',\n",
              " 'lstrip',\n",
              " 'maketrans',\n",
              " 'partition',\n",
              " 'replace',\n",
              " 'rfind',\n",
              " 'rindex',\n",
              " 'rjust',\n",
              " 'rpartition',\n",
              " 'rsplit',\n",
              " 'rstrip',\n",
              " 'split',\n",
              " 'splitlines',\n",
              " 'startswith',\n",
              " 'strip',\n",
              " 'swapcase',\n",
              " 'title',\n",
              " 'translate',\n",
              " 'upper',\n",
              " 'zfill']"
            ]
          },
          "metadata": {},
          "execution_count": 72
        }
      ]
    },
    {
      "cell_type": "markdown",
      "source": [
        "# **Chapter 08**\n",
        "**List and list formatting**"
      ],
      "metadata": {
        "id": "BjMew0OvHZUB"
      }
    },
    {
      "cell_type": "code",
      "source": [
        "emty_list = []\n",
        "print(emty_list)"
      ],
      "metadata": {
        "colab": {
          "base_uri": "https://localhost:8080/"
        },
        "id": "aAz_42iUdUg2",
        "outputId": "757278be-19f8-49f4-8e4b-0c0f5e5b7a63"
      },
      "execution_count": null,
      "outputs": [
        {
          "output_type": "stream",
          "name": "stdout",
          "text": [
            "[]\n"
          ]
        }
      ]
    },
    {
      "cell_type": "code",
      "source": [
        "y = list()\n",
        "print(y)"
      ],
      "metadata": {
        "id": "bUztDUAdgROK",
        "colab": {
          "base_uri": "https://localhost:8080/"
        },
        "outputId": "53c7370b-56c8-48e6-915b-26a43c0658b4"
      },
      "execution_count": null,
      "outputs": [
        {
          "output_type": "stream",
          "name": "stdout",
          "text": [
            "[]\n"
          ]
        }
      ]
    },
    {
      "cell_type": "code",
      "source": [
        "z = [1,9,5,8,6,5]\n",
        "print(z)"
      ],
      "metadata": {
        "colab": {
          "base_uri": "https://localhost:8080/"
        },
        "id": "E_bPJLVeH_wc",
        "outputId": "55ace100-7cfd-440d-87bd-39008d336d00"
      },
      "execution_count": null,
      "outputs": [
        {
          "output_type": "stream",
          "name": "stdout",
          "text": [
            "[1, 9, 5, 8, 6, 5]\n"
          ]
        }
      ]
    },
    {
      "cell_type": "code",
      "source": [
        "print(z[0])\n",
        "print(z[3])\n",
        "print(z[5] + z[3])\n",
        "print(len(z))\n",
        "print(max(z))\n",
        "print(min(z))\n",
        "print(sum(z))\n",
        "print(sum(z)/len(z))\n"
      ],
      "metadata": {
        "colab": {
          "base_uri": "https://localhost:8080/"
        },
        "id": "tk3lGmDBIFWy",
        "outputId": "2969a0ad-dd54-43eb-d73b-aa440a31080f"
      },
      "execution_count": null,
      "outputs": [
        {
          "output_type": "stream",
          "name": "stdout",
          "text": [
            "1\n",
            "8\n",
            "13\n",
            "6\n",
            "9\n",
            "1\n",
            "34\n",
            "5.666666666666667\n"
          ]
        }
      ]
    },
    {
      "cell_type": "code",
      "source": [
        "dir(z)"
      ],
      "metadata": {
        "colab": {
          "base_uri": "https://localhost:8080/"
        },
        "id": "FkfpmMe2IOBI",
        "outputId": "f5dee542-65ce-4930-fbe4-d87ef0298ba0"
      },
      "execution_count": null,
      "outputs": [
        {
          "output_type": "execute_result",
          "data": {
            "text/plain": [
              "['__add__',\n",
              " '__class__',\n",
              " '__contains__',\n",
              " '__delattr__',\n",
              " '__delitem__',\n",
              " '__dir__',\n",
              " '__doc__',\n",
              " '__eq__',\n",
              " '__format__',\n",
              " '__ge__',\n",
              " '__getattribute__',\n",
              " '__getitem__',\n",
              " '__gt__',\n",
              " '__hash__',\n",
              " '__iadd__',\n",
              " '__imul__',\n",
              " '__init__',\n",
              " '__init_subclass__',\n",
              " '__iter__',\n",
              " '__le__',\n",
              " '__len__',\n",
              " '__lt__',\n",
              " '__mul__',\n",
              " '__ne__',\n",
              " '__new__',\n",
              " '__reduce__',\n",
              " '__reduce_ex__',\n",
              " '__repr__',\n",
              " '__reversed__',\n",
              " '__rmul__',\n",
              " '__setattr__',\n",
              " '__setitem__',\n",
              " '__sizeof__',\n",
              " '__str__',\n",
              " '__subclasshook__',\n",
              " 'append',\n",
              " 'clear',\n",
              " 'copy',\n",
              " 'count',\n",
              " 'extend',\n",
              " 'index',\n",
              " 'insert',\n",
              " 'pop',\n",
              " 'remove',\n",
              " 'reverse',\n",
              " 'sort']"
            ]
          },
          "metadata": {},
          "execution_count": 16
        }
      ]
    },
    {
      "cell_type": "code",
      "source": [
        "z = [1,9,5,8,6,5]\n",
        "y = [2,6,4,5,8,9,]\n",
        "\n",
        "x = z + y\n",
        "# print(x)\n",
        "x[3:9]\n",
        "x[:]"
      ],
      "metadata": {
        "colab": {
          "base_uri": "https://localhost:8080/"
        },
        "id": "PB2KjaGOJuxe",
        "outputId": "a0ad5e77-9c79-4274-b3f2-756f8586552e"
      },
      "execution_count": null,
      "outputs": [
        {
          "output_type": "execute_result",
          "data": {
            "text/plain": [
              "[1, 9, 5, 8, 6, 5, 2, 6, 4, 5, 8, 9]"
            ]
          },
          "metadata": {},
          "execution_count": 30
        }
      ]
    },
    {
      "cell_type": "code",
      "source": [
        "# print(x)\n",
        "# x.append(5)\n",
        "# print(x)\n",
        "# print(z)\n",
        "# z.append(8)\n",
        "# print(z)\n",
        "# z.sort()\n",
        "z.remove(z[5])\n",
        "print(z)\n"
      ],
      "metadata": {
        "colab": {
          "base_uri": "https://localhost:8080/"
        },
        "id": "iHwbqnhyJ3rB",
        "outputId": "bbc000ed-83b1-47c9-ad69-bfa7c1cb7db0"
      },
      "execution_count": null,
      "outputs": [
        {
          "output_type": "stream",
          "name": "stdout",
          "text": [
            "[1, 5, 5, 6, 6, 8, 8]\n"
          ]
        }
      ]
    },
    {
      "cell_type": "code",
      "source": [
        "|r = \"Welcome to bootcamp\"\n",
        "r = r.split(\" \")\n",
        "print(r)\n",
        "\n",
        "for i in r:\n",
        "  print(i)\n"
      ],
      "metadata": {
        "colab": {
          "base_uri": "https://localhost:8080/"
        },
        "id": "TqXMxEFgLhGd",
        "outputId": "a656b6ac-9e21-42fb-eaef-f649b3d29046"
      },
      "execution_count": null,
      "outputs": [
        {
          "output_type": "stream",
          "name": "stdout",
          "text": [
            "['Welcome', 'to', 'bootcamp']\n",
            "Welcome\n",
            "to\n",
            "bootcamp\n"
          ]
        }
      ]
    },
    {
      "cell_type": "code",
      "source": [
        "print(r)"
      ],
      "metadata": {
        "colab": {
          "base_uri": "https://localhost:8080/"
        },
        "id": "5zmEGBCBNb4G",
        "outputId": "c66e8bcd-4dd9-48f8-b993-9c878f651ea3"
      },
      "execution_count": null,
      "outputs": [
        {
          "output_type": "stream",
          "name": "stdout",
          "text": [
            "['Welcome', 'bootcamp', 'to']\n"
          ]
        }
      ]
    },
    {
      "cell_type": "code",
      "source": [
        "# r.remove(r[1])\n",
        "print(r)"
      ],
      "metadata": {
        "colab": {
          "base_uri": "https://localhost:8080/"
        },
        "id": "PLH_5SuuOWa7",
        "outputId": "c4737920-9075-4885-abba-7da3ec7551d4"
      },
      "execution_count": null,
      "outputs": [
        {
          "output_type": "stream",
          "name": "stdout",
          "text": [
            "['Welcome']\n"
          ]
        }
      ]
    },
    {
      "cell_type": "markdown",
      "source": [
        "# **Chapter 09**\n",
        "**Dictionaries**\n"
      ],
      "metadata": {
        "id": "nPrt59XcOo3f"
      }
    },
    {
      "cell_type": "code",
      "source": [
        "j = dict()\n",
        "print(j)"
      ],
      "metadata": {
        "colab": {
          "base_uri": "https://localhost:8080/"
        },
        "id": "6aTuDYJgOadd",
        "outputId": "89ef55c3-1d29-44a4-d2ae-2671b17c9cf7"
      },
      "execution_count": null,
      "outputs": [
        {
          "output_type": "stream",
          "name": "stdout",
          "text": [
            "{}\n"
          ]
        }
      ]
    },
    {
      "cell_type": "code",
      "source": [
        "j['mobile']= 'samsung'\n",
        "j['car']= 'toyota'\n",
        "j['laptop']= 'asus'\n",
        "\n",
        "print(j)\n"
      ],
      "metadata": {
        "colab": {
          "base_uri": "https://localhost:8080/"
        },
        "id": "4KPdb9J3SE3p",
        "outputId": "34c9753d-3a84-48a1-c47d-c4779706fb16"
      },
      "execution_count": null,
      "outputs": [
        {
          "output_type": "stream",
          "name": "stdout",
          "text": [
            "{'mobile': 'samsung', 'car': 'toyota', 'laptop': 'asus'}\n"
          ]
        }
      ]
    },
    {
      "cell_type": "code",
      "source": [
        "j['mobile']= \"apple\"\n",
        "print(j)\n"
      ],
      "metadata": {
        "colab": {
          "base_uri": "https://localhost:8080/"
        },
        "id": "U-yYKid7SeAE",
        "outputId": "94c31076-ba21-441d-8e6b-a0eb5994b340"
      },
      "execution_count": null,
      "outputs": [
        {
          "output_type": "stream",
          "name": "stdout",
          "text": [
            "{'mobile': 'apple', 'car': 'toyota', 'laptop': 'asus'}\n"
          ]
        }
      ]
    },
    {
      "cell_type": "code",
      "source": [
        "dir(j)"
      ],
      "metadata": {
        "colab": {
          "base_uri": "https://localhost:8080/"
        },
        "id": "4zG3gM_xSqpZ",
        "outputId": "0f0edf66-23b6-4733-ef35-7598314b1389"
      },
      "execution_count": null,
      "outputs": [
        {
          "output_type": "execute_result",
          "data": {
            "text/plain": [
              "['__class__',\n",
              " '__contains__',\n",
              " '__delattr__',\n",
              " '__delitem__',\n",
              " '__dir__',\n",
              " '__doc__',\n",
              " '__eq__',\n",
              " '__format__',\n",
              " '__ge__',\n",
              " '__getattribute__',\n",
              " '__getitem__',\n",
              " '__gt__',\n",
              " '__hash__',\n",
              " '__init__',\n",
              " '__init_subclass__',\n",
              " '__iter__',\n",
              " '__le__',\n",
              " '__len__',\n",
              " '__lt__',\n",
              " '__ne__',\n",
              " '__new__',\n",
              " '__reduce__',\n",
              " '__reduce_ex__',\n",
              " '__repr__',\n",
              " '__setattr__',\n",
              " '__setitem__',\n",
              " '__sizeof__',\n",
              " '__str__',\n",
              " '__subclasshook__',\n",
              " 'clear',\n",
              " 'copy',\n",
              " 'fromkeys',\n",
              " 'get',\n",
              " 'items',\n",
              " 'keys',\n",
              " 'pop',\n",
              " 'popitem',\n",
              " 'setdefault',\n",
              " 'update',\n",
              " 'values']"
            ]
          },
          "metadata": {},
          "execution_count": 66
        }
      ]
    },
    {
      "cell_type": "code",
      "source": [
        "j.keys()"
      ],
      "metadata": {
        "colab": {
          "base_uri": "https://localhost:8080/"
        },
        "id": "hsi1UqeZSutj",
        "outputId": "88613217-99b8-41e2-e6ec-9dda3ce2797f"
      },
      "execution_count": null,
      "outputs": [
        {
          "output_type": "execute_result",
          "data": {
            "text/plain": [
              "dict_keys(['mobile', 'car', 'laptop'])"
            ]
          },
          "metadata": {},
          "execution_count": 67
        }
      ]
    },
    {
      "cell_type": "code",
      "source": [
        "j.values()"
      ],
      "metadata": {
        "colab": {
          "base_uri": "https://localhost:8080/"
        },
        "id": "Jx8PYA9VS0ng",
        "outputId": "560d96e3-5554-438a-abb5-71c2a5e96142"
      },
      "execution_count": null,
      "outputs": [
        {
          "output_type": "execute_result",
          "data": {
            "text/plain": [
              "dict_values(['apple', 'toyota', 'asus'])"
            ]
          },
          "metadata": {},
          "execution_count": 68
        }
      ]
    },
    {
      "cell_type": "code",
      "source": [
        "a= {\"banana\" : 1, \"mango\": 5, \"apple\": 4 }\n",
        "print(a)"
      ],
      "metadata": {
        "colab": {
          "base_uri": "https://localhost:8080/"
        },
        "id": "LQJVaLs3S2sg",
        "outputId": "63141c2d-10d9-454a-915f-c99be17db81f"
      },
      "execution_count": null,
      "outputs": [
        {
          "output_type": "stream",
          "name": "stdout",
          "text": [
            "{'banana': 1, 'mango': 5, 'apple': 4}\n"
          ]
        }
      ]
    },
    {
      "cell_type": "code",
      "source": [
        "count = {}\n",
        "names = ['abs', 'bss', 'knn', 'okol', 'abs', 'abs', 'bss']\n",
        "for name in names:\n",
        "  if name not in count:\n",
        "    count[name] = 1\n",
        "  else:\n",
        "    count[name]= count[name] + 1\n",
        "print(count)"
      ],
      "metadata": {
        "colab": {
          "base_uri": "https://localhost:8080/"
        },
        "id": "xzuOoOL3VsF0",
        "outputId": "bb5074ae-2b07-48b5-bf58-0f0264ea3a35"
      },
      "execution_count": null,
      "outputs": [
        {
          "output_type": "stream",
          "name": "stdout",
          "text": [
            "{'abs': 3, 'bss': 2, 'knn': 1, 'okol': 1}\n"
          ]
        }
      ]
    },
    {
      "cell_type": "code",
      "source": [
        "count = dict()\n",
        "line = input(\"Enter the line: \")\n",
        "words= line.split(\" \")\n",
        "\n",
        "print(\"Words:\", words)\n",
        "\n",
        "for word in words:\n",
        "  count[word]= count.get(word,0) + 1\n",
        "\n",
        "print(\"Count: \", count)\n"
      ],
      "metadata": {
        "colab": {
          "base_uri": "https://localhost:8080/"
        },
        "id": "oQ0zPyAodrRY",
        "outputId": "ad01d33d-e751-4d84-eb1c-bbde5969d138"
      },
      "execution_count": null,
      "outputs": [
        {
          "output_type": "stream",
          "name": "stdout",
          "text": [
            "Enter the line: This Python 3 tutorial course aims to teach everyone the basics of programming computers using Python. The course has no pre-requisites and avoids all but the simplest mathematics. \n",
            "Words: ['This', 'Python', '3', 'tutorial', 'course', 'aims', 'to', 'teach', 'everyone', 'the', 'basics', 'of', 'programming', 'computers', 'using', 'Python.', 'The', 'course', 'has', 'no', 'pre-requisites', 'and', 'avoids', 'all', 'but', 'the', 'simplest', 'mathematics.', '']\n",
            "Count:  {'This': 1, 'Python': 1, '3': 1, 'tutorial': 1, 'course': 2, 'aims': 1, 'to': 1, 'teach': 1, 'everyone': 1, 'the': 2, 'basics': 1, 'of': 1, 'programming': 1, 'computers': 1, 'using': 1, 'Python.': 1, 'The': 1, 'has': 1, 'no': 1, 'pre-requisites': 1, 'and': 1, 'avoids': 1, 'all': 1, 'but': 1, 'simplest': 1, 'mathematics.': 1, '': 1}\n"
          ]
        }
      ]
    },
    {
      "cell_type": "markdown",
      "source": [
        "# **Chapter 10**\n",
        "**Tuples**"
      ],
      "metadata": {
        "id": "5GtniDN4kJE8"
      }
    },
    {
      "cell_type": "code",
      "source": [
        "y = (0, 5 , 6 , 8)\n",
        "type(y)"
      ],
      "metadata": {
        "colab": {
          "base_uri": "https://localhost:8080/"
        },
        "id": "9-mdD7NNejgD",
        "outputId": "c1c06de4-0070-4d32-b26e-cbb40c418934"
      },
      "execution_count": null,
      "outputs": [
        {
          "output_type": "execute_result",
          "data": {
            "text/plain": [
              "tuple"
            ]
          },
          "metadata": {},
          "execution_count": 2
        }
      ]
    },
    {
      "cell_type": "code",
      "source": [
        "y.sort()"
      ],
      "metadata": {
        "colab": {
          "base_uri": "https://localhost:8080/",
          "height": 165
        },
        "id": "gEHeEGWHkbqe",
        "outputId": "f92d6183-6e5e-4916-afe0-1d42a30bccae"
      },
      "execution_count": null,
      "outputs": [
        {
          "output_type": "error",
          "ename": "AttributeError",
          "evalue": "ignored",
          "traceback": [
            "\u001b[0;31m---------------------------------------------------------------------------\u001b[0m",
            "\u001b[0;31mAttributeError\u001b[0m                            Traceback (most recent call last)",
            "\u001b[0;32m<ipython-input-3-a65c6cb3e953>\u001b[0m in \u001b[0;36m<module>\u001b[0;34m()\u001b[0m\n\u001b[0;32m----> 1\u001b[0;31m \u001b[0my\u001b[0m\u001b[0;34m.\u001b[0m\u001b[0msort\u001b[0m\u001b[0;34m(\u001b[0m\u001b[0;34m)\u001b[0m\u001b[0;34m\u001b[0m\u001b[0;34m\u001b[0m\u001b[0m\n\u001b[0m",
            "\u001b[0;31mAttributeError\u001b[0m: 'tuple' object has no attribute 'sort'"
          ]
        }
      ]
    },
    {
      "cell_type": "code",
      "source": [
        "y.append(5)"
      ],
      "metadata": {
        "colab": {
          "base_uri": "https://localhost:8080/",
          "height": 165
        },
        "id": "kihphJ3skk6d",
        "outputId": "762e0a34-c3af-41a0-ff0f-b0bc36cb4a1b"
      },
      "execution_count": null,
      "outputs": [
        {
          "output_type": "error",
          "ename": "AttributeError",
          "evalue": "ignored",
          "traceback": [
            "\u001b[0;31m---------------------------------------------------------------------------\u001b[0m",
            "\u001b[0;31mAttributeError\u001b[0m                            Traceback (most recent call last)",
            "\u001b[0;32m<ipython-input-4-5eae7a828692>\u001b[0m in \u001b[0;36m<module>\u001b[0;34m()\u001b[0m\n\u001b[0;32m----> 1\u001b[0;31m \u001b[0my\u001b[0m\u001b[0;34m.\u001b[0m\u001b[0mappend\u001b[0m\u001b[0;34m(\u001b[0m\u001b[0;36m5\u001b[0m\u001b[0;34m)\u001b[0m\u001b[0;34m\u001b[0m\u001b[0;34m\u001b[0m\u001b[0m\n\u001b[0m",
            "\u001b[0;31mAttributeError\u001b[0m: 'tuple' object has no attribute 'append'"
          ]
        }
      ]
    },
    {
      "cell_type": "code",
      "source": [
        "dir(y)"
      ],
      "metadata": {
        "colab": {
          "base_uri": "https://localhost:8080/"
        },
        "id": "xVC-SnXdkoR-",
        "outputId": "0511eb47-d82e-4483-af3d-f690582f425d"
      },
      "execution_count": null,
      "outputs": [
        {
          "output_type": "execute_result",
          "data": {
            "text/plain": [
              "['__add__',\n",
              " '__class__',\n",
              " '__contains__',\n",
              " '__delattr__',\n",
              " '__dir__',\n",
              " '__doc__',\n",
              " '__eq__',\n",
              " '__format__',\n",
              " '__ge__',\n",
              " '__getattribute__',\n",
              " '__getitem__',\n",
              " '__getnewargs__',\n",
              " '__gt__',\n",
              " '__hash__',\n",
              " '__init__',\n",
              " '__init_subclass__',\n",
              " '__iter__',\n",
              " '__le__',\n",
              " '__len__',\n",
              " '__lt__',\n",
              " '__mul__',\n",
              " '__ne__',\n",
              " '__new__',\n",
              " '__reduce__',\n",
              " '__reduce_ex__',\n",
              " '__repr__',\n",
              " '__rmul__',\n",
              " '__setattr__',\n",
              " '__sizeof__',\n",
              " '__str__',\n",
              " '__subclasshook__',\n",
              " 'count',\n",
              " 'index']"
            ]
          },
          "metadata": {},
          "execution_count": 5
        }
      ]
    },
    {
      "cell_type": "code",
      "source": [
        "(x, y)= (5,4)\n",
        "print(y)"
      ],
      "metadata": {
        "colab": {
          "base_uri": "https://localhost:8080/"
        },
        "id": "p9EWpWvGkp1b",
        "outputId": "f390e736-1b75-4ea4-e9bc-a2cc18c74d41"
      },
      "execution_count": null,
      "outputs": [
        {
          "output_type": "stream",
          "name": "stdout",
          "text": [
            "4\n"
          ]
        }
      ]
    },
    {
      "cell_type": "code",
      "source": [
        "# sorting\n",
        "\n",
        "d= {\"a\" : 5, \"b\": 10, \"c\": 15}\n",
        "d.items()"
      ],
      "metadata": {
        "colab": {
          "base_uri": "https://localhost:8080/"
        },
        "id": "2bY1C3mCkuKL",
        "outputId": "3615a8ed-1afc-4277-824d-bb2184ec2034"
      },
      "execution_count": null,
      "outputs": [
        {
          "output_type": "execute_result",
          "data": {
            "text/plain": [
              "dict_items([('a', 5), ('b', 10), ('c', 15)])"
            ]
          },
          "metadata": {},
          "execution_count": 10
        }
      ]
    },
    {
      "cell_type": "code",
      "source": [
        "sorted(d.items())"
      ],
      "metadata": {
        "colab": {
          "base_uri": "https://localhost:8080/"
        },
        "id": "n4jZnkj0mxws",
        "outputId": "52f25896-2f03-4555-e690-b83da16bcf04"
      },
      "execution_count": null,
      "outputs": [
        {
          "output_type": "execute_result",
          "data": {
            "text/plain": [
              "[('a', 5), ('b', 10), ('c', 15)]"
            ]
          },
          "metadata": {},
          "execution_count": 11
        }
      ]
    },
    {
      "cell_type": "code",
      "source": [
        "t = sorted(d.items())\n",
        "t\n",
        "for k,v in t:\n",
        "  print(k,v)\n"
      ],
      "metadata": {
        "colab": {
          "base_uri": "https://localhost:8080/"
        },
        "id": "Yfe3fyo_m5Px",
        "outputId": "276cd61b-be1b-455f-bbe6-ee2d87e7bbb8"
      },
      "execution_count": null,
      "outputs": [
        {
          "output_type": "stream",
          "name": "stdout",
          "text": [
            "a 5\n",
            "b 10\n",
            "c 15\n"
          ]
        }
      ]
    },
    {
      "cell_type": "code",
      "source": [
        "t= {\"a\": 1, \"b\": 2, \"c\": 5}\n",
        "tem = list()\n",
        "for k,v in t.items():\n",
        "  tem.append((v,k))\n",
        "\n",
        "\n",
        "print(tem)"
      ],
      "metadata": {
        "colab": {
          "base_uri": "https://localhost:8080/"
        },
        "id": "5J0MQmvHncw6",
        "outputId": "5be22a5d-4a2a-48b0-dd97-8ec8a57aac52"
      },
      "execution_count": null,
      "outputs": [
        {
          "output_type": "stream",
          "name": "stdout",
          "text": [
            "[(1, 'a'), (2, 'b'), (5, 'c')]\n"
          ]
        }
      ]
    },
    {
      "cell_type": "markdown",
      "source": [
        "# **Chapter 11**\n",
        "**Regular Expression**\n"
      ],
      "metadata": {
        "id": "QmRR6RtJrC2g"
      }
    },
    {
      "cell_type": "code",
      "source": [
        "import re\n",
        "\n",
        "x = \"Probably the oldest one in this class at 82. Just finished 3 months of VBA for Excel. Dr. Chuck seems to be teaching in a way I can understand\"\n",
        "\n",
        "y = re.findall('[0-9]+', x)\n",
        "\n",
        "print(y)\n"
      ],
      "metadata": {
        "colab": {
          "base_uri": "https://localhost:8080/"
        },
        "id": "awendbLBsL5i",
        "outputId": "02294096-6b2a-4814-b1e2-31412546e9a5"
      },
      "execution_count": null,
      "outputs": [
        {
          "output_type": "stream",
          "name": "stdout",
          "text": [
            "['82', '3']\n"
          ]
        }
      ]
    },
    {
      "cell_type": "code",
      "source": [
        "y = re.findall('[AEIOU]+', x)\n",
        "print(y)"
      ],
      "metadata": {
        "colab": {
          "base_uri": "https://localhost:8080/"
        },
        "id": "e8Zh2R4Sw84f",
        "outputId": "a7ded8c9-b6a2-4996-b565-118cd7efaea2"
      },
      "execution_count": null,
      "outputs": [
        {
          "output_type": "stream",
          "name": "stdout",
          "text": [
            "['A', 'E', 'I']\n"
          ]
        }
      ]
    },
    {
      "cell_type": "code",
      "source": [
        "import re\n",
        "x = 'From : the insertion: with the one '\n",
        "\n",
        "y = re.findall('^F.+:',x)\n",
        "print(y)\n",
        "\n",
        "z = re.findall('^F.+?:', x)\n",
        "print(z)"
      ],
      "metadata": {
        "colab": {
          "base_uri": "https://localhost:8080/"
        },
        "id": "e3ctES4Fxx6m",
        "outputId": "91755dbb-eb05-4d35-bacb-547c6cdeccf0"
      },
      "execution_count": null,
      "outputs": [
        {
          "output_type": "stream",
          "name": "stdout",
          "text": [
            "['From : the insertion:']\n",
            "['From :']\n"
          ]
        }
      ]
    },
    {
      "cell_type": "code",
      "source": [
        "import re\n",
        "x = 'to:\tDeepak Dewani deepak.dewani@konverge.ai Mon, Feb 21, 12:25 PM (1 day ago'\n",
        "\n",
        "y = re.findall('\\S+@\\S+', x)\n",
        "print(y)"
      ],
      "metadata": {
        "colab": {
          "base_uri": "https://localhost:8080/"
        },
        "id": "8f8NL809yXZJ",
        "outputId": "19f6e10e-40b6-470e-bb34-db597e8998db"
      },
      "execution_count": null,
      "outputs": [
        {
          "output_type": "stream",
          "name": "stdout",
          "text": [
            "['deepak.dewani@konverge.ai']\n"
          ]
        }
      ]
    },
    {
      "cell_type": "code",
      "source": [
        "import re\n",
        "x = 'to:\tDeepak Dewani deepak.dewani@konverge.ai Mon, Feb 21, 12:25 PM (1 day ago'\n",
        "\n",
        "y = re.findall('@([^ ]*)', x)\n",
        "print(y)"
      ],
      "metadata": {
        "colab": {
          "base_uri": "https://localhost:8080/"
        },
        "id": "MdQ-8BkI1WH_",
        "outputId": "1175cf40-1955-470d-e68d-cb1b7a8c6c7e"
      },
      "execution_count": null,
      "outputs": [
        {
          "output_type": "stream",
          "name": "stdout",
          "text": [
            "['konverge.ai']\n"
          ]
        }
      ]
    },
    {
      "cell_type": "markdown",
      "source": [
        "# **Chapter 12**\n",
        "\n",
        "**Network Program**"
      ],
      "metadata": {
        "id": "QFVEa4Bk-P_W"
      }
    },
    {
      "cell_type": "code",
      "source": [
        "import socket\n",
        "mysock = socket.socket(socket.AF_INET, socket.SOCK_STREAM)\n",
        "mysock.connect(('data.pr4e.org', 80))\n",
        "cmd = 'GET http://data.pr4e.org/romeo.txt HTTP/1.0\\r\\n\\r\\n'.encode()\n",
        "mysock.send(cmd)\n",
        "\n",
        "while True:\n",
        "  data = mysock.recv(512)\n",
        "  if len(data) < 1:\n",
        "    break\n",
        "  print(data.decode(), end='')\n",
        "\n",
        "  \n",
        "mysock.close()"
      ],
      "metadata": {
        "colab": {
          "base_uri": "https://localhost:8080/"
        },
        "id": "RpWlNSsI7Bwk",
        "outputId": "2d075750-1972-453f-d541-e09b59652389"
      },
      "execution_count": null,
      "outputs": [
        {
          "output_type": "stream",
          "name": "stdout",
          "text": [
            "HTTP/1.1 200 OK\r\n",
            "Date: Tue, 22 Feb 2022 17:09:20 GMT\r\n",
            "Server: Apache/2.4.18 (Ubuntu)\r\n",
            "Last-Modified: Sat, 13 May 2017 11:22:22 GMT\r\n",
            "ETag: \"a7-54f6609245537\"\r\n",
            "Accept-Ranges: bytes\r\n",
            "Content-Length: 167\r\n",
            "Cache-Control: max-age=0, no-cache, no-store, must-revalidate\r\n",
            "Pragma: no-cache\r\n",
            "Expires: Wed, 11 Jan 1984 05:00:00 GMT\r\n",
            "Connection: close\r\n",
            "Content-Type: text/plain\r\n",
            "\r\n",
            "But soft what light through yonder window breaks\n",
            "It is the east and Juliet is the sun\n",
            "Arise fair sun and kill the envious moon\n",
            "Who is already sick and pale with grief\n"
          ]
        }
      ]
    },
    {
      "cell_type": "code",
      "source": [
        "import urllib.request, urllib.parse, urllib.error\n",
        "\n",
        "fhand = urllib.request.urlopen('http://data.pr4e.org/romeo.txt')\n",
        "for line in fhand:\n",
        "  print(line.decode().strip())"
      ],
      "metadata": {
        "colab": {
          "base_uri": "https://localhost:8080/"
        },
        "id": "7n46FCRXZhWK",
        "outputId": "8fb3d16b-0989-4e4b-fa96-6aaa51807f02"
      },
      "execution_count": null,
      "outputs": [
        {
          "output_type": "stream",
          "name": "stdout",
          "text": [
            "But soft what light through yonder window breaks\n",
            "It is the east and Juliet is the sun\n",
            "Arise fair sun and kill the envious moon\n",
            "Who is already sick and pale with grief\n"
          ]
        }
      ]
    },
    {
      "cell_type": "code",
      "source": [
        "import urllib.request, urllib.parse, urllib.error\n",
        "\n",
        "fhand = urllib.request.urlopen('http://data.pr4e.org/romeo.txt')\n",
        "\n",
        "\n",
        "count = dict()\n",
        "for line in fhand:\n",
        "  words= line.decode().split()\n",
        "  for word in words:\n",
        "    count[word] = count.get(word, 0) + 1\n",
        "\n",
        "  \n",
        "print(count)\n"
      ],
      "metadata": {
        "colab": {
          "base_uri": "https://localhost:8080/"
        },
        "id": "X6dCHbqhfn-v",
        "outputId": "774d64b8-d487-4493-ff2f-8069a35a3a10"
      },
      "execution_count": null,
      "outputs": [
        {
          "output_type": "stream",
          "name": "stdout",
          "text": [
            "{'But': 1, 'soft': 1, 'what': 1, 'light': 1, 'through': 1, 'yonder': 1, 'window': 1, 'breaks': 1, 'It': 1, 'is': 3, 'the': 3, 'east': 1, 'and': 3, 'Juliet': 1, 'sun': 2, 'Arise': 1, 'fair': 1, 'kill': 1, 'envious': 1, 'moon': 1, 'Who': 1, 'already': 1, 'sick': 1, 'pale': 1, 'with': 1, 'grief': 1}\n"
          ]
        }
      ]
    },
    {
      "cell_type": "code",
      "source": [
        "import urllib.request, urllib.parse, urllib.error\n",
        "from bs4 import BeautifulSoup\n",
        "import ssl\n",
        "\n",
        "ctx = ssl.create_default_context()\n",
        "ctx.check_hostname = False\n",
        "ctx.verify_mode = ssl.CERT_NONE\n",
        "\n",
        "url = input('Enter the url: ')\n",
        "html = urllib.request.urlopen(url, context=ctx).read()\n",
        "soup = BeautifulSoup(html, \"html.parser\")\n",
        "\n",
        "tags = soup('a')\n",
        "\n",
        "for tag in tags:\n",
        "  print(tag.get('href', None))\n"
      ],
      "metadata": {
        "colab": {
          "base_uri": "https://localhost:8080/"
        },
        "id": "SXjWEz1ojRYZ",
        "outputId": "a7eee32f-e91f-4626-c9fa-b1f944b0426b"
      },
      "execution_count": null,
      "outputs": [
        {
          "output_type": "stream",
          "name": "stdout",
          "text": [
            "Enter the url: http://www.dr-chuck.com/\n",
            "https://www.learnerprivacy.org/\n",
            "https://www.si.umich.edu/\n",
            "https://www.ratemyprofessors.com/ShowRatings.jsp?tid=1159280\n",
            "https://www.learnerprivacy.org\n",
            "https://www.dr-chuck.com/csev-blog/\n",
            "https://www.twitter.com/drchuck/\n",
            "https://www.dr-chuck.com/dr-chuck/resume/speaking.htm\n",
            "https://www.slideshare.net/csev\n",
            "/dr-chuck/resume/index.htm\n",
            "https://amzn.to/1K5Q81K\n",
            "https://www.coursera.org/instructor/drchuck\n",
            "http://afs.dr-chuck.com/papers/\n",
            "https://itunes.apple.com/us/podcast/computing-conversations/id731495760\n",
            "https://www.youtube.com/playlist?list=PLHJB2bhmgB7dFuY7HmrXLj5BmHGKTD-3R\n",
            "https://developers.imsglobal.org/\n",
            "https://www.youtube.com/user/csev\n",
            "https://vimeo.com/drchuck/videos\n",
            "https://backpack.openbadges.org/share/4f76699ddb399d162a00b89a452074b3/\n",
            "https://www.linkedin.com/in/charlesseverance/\n",
            "https://www.researchgate.net/profile/Charles_Severance/\n",
            "https://www.learnerprivacy.org/\n",
            "https://www.py4e.com/\n",
            "https://www.dj4e.com/\n",
            "https://www.wa4e.com/\n",
            "https://www.coursera.org/course/insidetheinternet\n",
            "https://www.sakaiproject.org/\n",
            "https://www.tsugi.org/\n",
            "https://developers.imsglobal.org/\n",
            "http://www.py4e.com/book\n",
            "/sakai-book\n",
            "http://www.amazon.com/gp/product/1624311393/ref=as_li_ss_tl?ie=UTF8&camp=1789&creative=390957&creativeASIN=1624311393&linkCode=as2&tag=drchu02-20\n",
            "http://www.amazon.com/gp/product/059680069X/ref=as_li_ss_tl?ie=UTF8&camp=1789&creative=390957&creativeASIN=059680069X&linkCode=as2&tag=drchu02-20\n",
            "http://www.amazon.com/Performance-Computing-Architectures-Optimization-Benchmarks/dp/156592312X/\n",
            "http://oreilly.com/catalog/9781565923126/\n",
            "http://cnx.org/content/col11136/latest/\n",
            "http://www.youtube.com/playlist?list=PLHJB2bhmgB7dFuY7HmrXLj5BmHGKTD-3R\n",
            "https://www.vimeo.com/17207620\n",
            "https://www.youtube.com/watch?v=BVKpW02hsrU\n",
            "https://www.youtube.com/watch?v=sa2WsgCvn7c\n",
            "https://www.vimeo.com/17213019\n",
            "https://www.youtube.com/watch?v=FJ078sO35M0\n",
            "http://afs.dr-chuck.com/citoolkit\n",
            "https://twitter.com/drchuck\n"
          ]
        }
      ]
    },
    {
      "cell_type": "code",
      "source": [
        "import urllib.request, urllib.parse, urllib.error\n",
        "from bs4 import BeautifulSoup\n",
        "import ssl\n",
        "\n",
        "ctx = ssl.create_default_context()\n",
        "ctx.check_hostname = False\n",
        "ctx.verify_mode = ssl.CERT_NONE\n",
        "\n",
        "url = input('Enter the url: ')\n",
        "html = urllib.request.urlopen(url, context=ctx).read()\n",
        "soup = BeautifulSoup(html, \"html.parser\")\n",
        "\n",
        "tags = soup('a')\n",
        "\n",
        "for tag in tags:\n",
        "  print(tag.get('href', None))"
      ],
      "metadata": {
        "colab": {
          "base_uri": "https://localhost:8080/"
        },
        "id": "m7KuekWBoF43",
        "outputId": "53dd2bf8-c9c7-4748-a6fe-1e5d325e6f51"
      },
      "execution_count": null,
      "outputs": [
        {
          "output_type": "stream",
          "name": "stdout",
          "text": [
            "Enter the url: http://www.youtube.com/\n",
            "/\n",
            "/\n",
            "https://www.youtube.com/about/\n",
            "https://www.youtube.com/about/press/\n",
            "https://www.youtube.com/about/copyright/\n",
            "/t/contact_us/\n",
            "https://www.youtube.com/creators/\n",
            "https://www.youtube.com/ads/\n",
            "https://developers.google.com/youtube\n",
            "/t/terms\n",
            "/t/privacy\n",
            "https://www.youtube.com/about/policies/\n",
            "https://www.youtube.com/howyoutubeworks?utm_campaign=ytgen&utm_source=ythp&utm_medium=LeftNav&utm_content=txt&u=https%3A%2F%2Fwww.youtube.com%2Fhowyoutubeworks%3Futm_source%3Dythp%26utm_medium%3DLeftNav%26utm_campaign%3Dytgen\n",
            "/new\n"
          ]
        }
      ]
    },
    {
      "cell_type": "markdown",
      "source": [
        "# **Chapter 13**\n",
        "**XML And XML Schema**"
      ],
      "metadata": {
        "id": "bKZoPeVuCI8s"
      }
    },
    {
      "cell_type": "code",
      "source": [
        "import xml.etree.ElementTree as ET\n",
        "\n",
        "data = ''' <person>\n",
        "<name>Deepak</name>\n",
        "<phone type= \"int1\">\n",
        "  +91 8669022\n",
        "</phone>\n",
        "<email hide = \"Deepak.dewani@konverge.ai\"/>\n",
        "</person>'''\n",
        "\n",
        "tree = ET.fromstring(data)\n",
        "print(\"Name: \", tree.find('name').text)\n",
        "print(\"Attr: \", tree.find(\"email\").get(\"hide\"))"
      ],
      "metadata": {
        "id": "0CwZJv0aqXEK",
        "colab": {
          "base_uri": "https://localhost:8080/"
        },
        "outputId": "a1554304-6c3d-4200-b3d5-710e82eac455"
      },
      "execution_count": null,
      "outputs": [
        {
          "output_type": "stream",
          "name": "stdout",
          "text": [
            "Name:  Deepak\n",
            "Attr:  Deepak.dewani@konverge.ai\n"
          ]
        }
      ]
    },
    {
      "cell_type": "code",
      "source": [
        "import xml.etree.ElementTree as ET\n",
        "\n",
        "data = ''' <stuff>\n",
        "<users>\n",
        "    <user x = \"2\">\n",
        "        <id>001</id>\n",
        "        <name>Deepak</name>\n",
        "    </user>\n",
        "    <user x = \"7\">\n",
        "        <id>002</id>\n",
        "        <name>Ram</name>\n",
        "    </user>\n",
        "</users>\n",
        "</stuff>'''\n",
        "\n",
        "stuff = ET.fromstring(data)\n",
        "lst = stuff.findall(\"users/user\")\n",
        "\n",
        "print('User Count: ', len(lst))\n",
        "\n",
        "for items in lst:\n",
        "  print(\"Name: \", items.find('name').text)\n",
        "  print(\"ID: \", items.find('id').text)\n",
        "  print(\"Attr: \", items.get(\"x\"))\n"
      ],
      "metadata": {
        "colab": {
          "base_uri": "https://localhost:8080/"
        },
        "id": "963IstTKCmAm",
        "outputId": "34956fbf-0977-4b53-f877-9e4692fb45ab"
      },
      "execution_count": null,
      "outputs": [
        {
          "output_type": "stream",
          "name": "stdout",
          "text": [
            "User Count:  2\n",
            "Name:  Deepak\n",
            "ID:  001\n",
            "Attr:  2\n",
            "Name:  Ram\n",
            "ID:  002\n",
            "Attr:  7\n"
          ]
        }
      ]
    },
    {
      "cell_type": "markdown",
      "source": [
        "# **Chapter 14**\n",
        "**JSON**"
      ],
      "metadata": {
        "id": "54BOqUL7Jrhi"
      }
    },
    {
      "cell_type": "code",
      "source": [
        "import json\n",
        "data = ''' {\n",
        "  \"name\" : \"Deepak\",\n",
        "  \" phone\" : {\n",
        "                \"type\" : \"int1\",\n",
        "                \"number\" : \"+91 86690229\"\n",
        "              },\n",
        "              \"email\" : {\n",
        "                          \"hide\" : \"deepak.dewani@konverge.ai\"\n",
        "                        }\n",
        "            }'''\n",
        "\n",
        "info = json.loads(data)\n",
        "print(\"Name: \", info[\"name\"])\n",
        "print(\"Hide: \", info[\"email\"][\"hide\"])"
      ],
      "metadata": {
        "colab": {
          "base_uri": "https://localhost:8080/"
        },
        "id": "eyG4Aq0XGvcH",
        "outputId": "c36b653d-5891-4d66-a4ed-5347ba693743"
      },
      "execution_count": null,
      "outputs": [
        {
          "output_type": "stream",
          "name": "stdout",
          "text": [
            "Name:  Deepak\n",
            "Hide:  deepak.dewani@konverge.ai\n"
          ]
        }
      ]
    },
    {
      "cell_type": "code",
      "source": [
        " import json\n",
        " \n",
        "data = ''' [\n",
        "  {\n",
        "  \"id\" : \"001\",\n",
        "  \"x\" : \"2\",\n",
        "  \"name\" : \"Deepak\"\n",
        "},\n",
        "  {\n",
        "  \"id\" : \"007\",\n",
        "  \"x\" : \" 007\",\n",
        "  \"name\" : \"Ram\"\n",
        "  }\n",
        "]'''\n",
        "\n",
        "info = json.loads(data)\n",
        "print(\"User count: \", len(info))\n",
        "for items in info:\n",
        "  print(\"Name: \", items[\"name\"])\n",
        "  print(\"Id: \", items[\"id\"])\n",
        "  print(\"Attr: \", items[\"x\"])"
      ],
      "metadata": {
        "id": "SABun0gsKAGL",
        "colab": {
          "base_uri": "https://localhost:8080/"
        },
        "outputId": "5ccb6700-bf81-49fa-fb6d-c2a3232d1aa5"
      },
      "execution_count": null,
      "outputs": [
        {
          "output_type": "stream",
          "name": "stdout",
          "text": [
            "User count:  2\n",
            "Name:  Deepak\n",
            "Id:  001\n",
            "Attr:  2\n",
            "Name:  Ram\n",
            "Id:  007\n",
            "Attr:   007\n"
          ]
        }
      ]
    },
    {
      "cell_type": "markdown",
      "source": [
        "# **Chapter 15**\n",
        "# **Databases**"
      ],
      "metadata": {
        "id": "PzoUoa5Lu-71"
      }
    },
    {
      "cell_type": "code",
      "source": [
        "import sqlite3\n",
        "\n",
        "conn = sqlite3.connect('music.sqlite')\n",
        "cur = conn.cursor()\n",
        "\n",
        "cur.execute('DROP TABLE IF EXISTS Tracks')\n",
        "cur.execute('CREATE TABLE Tracks (title TEXT, plays INTEGER)')\n",
        "\n",
        "conn.close()"
      ],
      "metadata": {
        "id": "43oYXcaED3kw"
      },
      "execution_count": 1,
      "outputs": []
    },
    {
      "cell_type": "code",
      "source": [
        "import sqlite3\n",
        "\n",
        "conn = sqlite3.connect('music.sqlite')\n",
        "cur = conn.cursor()\n",
        "\n",
        "cur.execute('INSERT INTO Tracks (title, plays) VALUES (?, ?)',\n",
        "    ('Thunderstruck', 20))\n",
        "cur.execute('INSERT INTO Tracks (title, plays) VALUES (?, ?)',\n",
        "    ('My Way', 15))\n",
        "conn.commit()\n",
        "\n",
        "print('Tracks:')\n",
        "cur.execute('SELECT title, plays FROM Tracks')\n",
        "for row in cur:\n",
        "     print(row)\n",
        "\n",
        "cur.execute('DELETE FROM Tracks WHERE plays < 100')\n",
        "conn.commit()\n",
        "\n",
        "cur.close()"
      ],
      "metadata": {
        "colab": {
          "base_uri": "https://localhost:8080/"
        },
        "id": "JDn5nixJvJti",
        "outputId": "86ef4be7-a3d1-4974-bd66-84599ff4bb16"
      },
      "execution_count": 2,
      "outputs": [
        {
          "output_type": "stream",
          "name": "stdout",
          "text": [
            "Tracks:\n",
            "('Thunderstruck', 20)\n",
            "('My Way', 15)\n"
          ]
        }
      ]
    },
    {
      "cell_type": "code",
      "source": [
        ""
      ],
      "metadata": {
        "id": "9z8cRe8svNZ9"
      },
      "execution_count": null,
      "outputs": []
    }
  ]
}