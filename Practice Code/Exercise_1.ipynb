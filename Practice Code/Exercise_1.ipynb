{
  "nbformat": 4,
  "nbformat_minor": 0,
  "metadata": {
    "colab": {
      "name": "Exercise 1.ipynb",
      "provenance": [],
      "collapsed_sections": [],
      "authorship_tag": "ABX9TyPNWHNcCfqsHmQ3iRjf3aXe",
      "include_colab_link": true
    },
    "kernelspec": {
      "name": "python3",
      "display_name": "Python 3"
    },
    "language_info": {
      "name": "python"
    }
  },
  "cells": [
    {
      "cell_type": "markdown",
      "metadata": {
        "id": "view-in-github",
        "colab_type": "text"
      },
      "source": [
        "<a href=\"https://colab.research.google.com/github/deepak-dewani/Python-for-everybody/blob/main/Exercise_1.ipynb\" target=\"_parent\"><img src=\"https://colab.research.google.com/assets/colab-badge.svg\" alt=\"Open In Colab\"/></a>"
      ]
    },
    {
      "cell_type": "code",
      "execution_count": 3,
      "metadata": {
        "colab": {
          "base_uri": "https://localhost:8080/"
        },
        "id": "yJM5HlM1RsZR",
        "outputId": "16ff79d6-2396-411a-94a6-e1da98940fce"
      },
      "outputs": [
        {
          "output_type": "stream",
          "name": "stdout",
          "text": [
            "Enter your name: Deepak\n",
            "Hello Deepak\n",
            "Welcome Deepak\n"
          ]
        }
      ],
      "source": [
        "# Write a program that uses input to prompt a user for their name and then welcomes them.\n",
        "\n",
        "x = input(\"Enter your name: \")\n",
        "\n",
        "print(\"Hello\", x)\n",
        "\n",
        "print(\"Welcome\", x)"
      ]
    },
    {
      "cell_type": "code",
      "source": [
        "# Write a program to prompt the user for hours and rate per hour to compute gross pay.\n",
        "\n",
        "x = float(input(\"Enter hours: \"))\n",
        "y = float(input(\"Enter rate: \"))\n",
        "\n",
        "z = x * y\n",
        "z = round(z,2)\n",
        "print(z)"
      ],
      "metadata": {
        "colab": {
          "base_uri": "https://localhost:8080/"
        },
        "id": "AdZVd-_USXxl",
        "outputId": "3f98e432-a46e-40bc-e243-14d622cde31c"
      },
      "execution_count": 7,
      "outputs": [
        {
          "output_type": "stream",
          "name": "stdout",
          "text": [
            "Enter hours: 35\n",
            "Enter rate: 2.75\n",
            "96.25\n"
          ]
        }
      ]
    },
    {
      "cell_type": "code",
      "source": [
        "# # Assume that we execute the following assignment statements:\n",
        "# width = 17\n",
        "# height = 12.0\n",
        "# 1.width//2\n",
        "\n",
        "# 2.width/2.0\n",
        "\n",
        "# 3.height/3\n",
        "\n",
        "# 4. 1 + 2 * 5\n",
        "\n",
        "width = 17\n",
        "height = 12.0\n",
        "\n",
        "print(width//2)\n",
        "print(width//2.0)\n",
        "print(height/3)\n",
        "print(1 + 2 *5)"
      ],
      "metadata": {
        "colab": {
          "base_uri": "https://localhost:8080/"
        },
        "id": "ebAaSG-wTRR0",
        "outputId": "8eef5723-b679-41d2-8d70-6b100acf75cc"
      },
      "execution_count": 8,
      "outputs": [
        {
          "output_type": "stream",
          "name": "stdout",
          "text": [
            "8\n",
            "8.0\n",
            "4.0\n",
            "11\n"
          ]
        }
      ]
    },
    {
      "cell_type": "code",
      "source": [
        "# Write a program which prompts the user for a Celsius temperature, convert the temperature to Fahrenheit, and print out the converted temperature.\n",
        "\n",
        "x = float(input(\"Enter the temperature in Celsius: \"))\n",
        "\n",
        "# To convert temperatures in degrees Celsius to Fahrenheit, multiply by 1.8 (or 9/5) and add 32.\n",
        "\n",
        "# Example: (30°C x 1.8) + 32 = 86°F\n",
        "\n",
        "y = (x * 1.8) + 32\n",
        "\n",
        "print(\"The temperature in Fahrenheit is : \", y)"
      ],
      "metadata": {
        "colab": {
          "base_uri": "https://localhost:8080/"
        },
        "id": "rpbQk6PKUWfT",
        "outputId": "13e617fe-5c10-4b2e-fb8e-5cf256cde1a9"
      },
      "execution_count": 11,
      "outputs": [
        {
          "output_type": "stream",
          "name": "stdout",
          "text": [
            "Enter the temperature in Celsius: 30\n",
            "The temperature in Fahrenheit is :  86.0\n"
          ]
        }
      ]
    },
    {
      "cell_type": "code",
      "source": [
        ""
      ],
      "metadata": {
        "id": "YODHhE-NVFT2"
      },
      "execution_count": null,
      "outputs": []
    }
  ]
}