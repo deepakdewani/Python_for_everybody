{
  "nbformat": 4,
  "nbformat_minor": 0,
  "metadata": {
    "colab": {
      "name": "Object-oriented programming.ipynb",
      "provenance": [],
      "collapsed_sections": [],
      "authorship_tag": "ABX9TyMsdkFqCh4tAh4rO9747vik",
      "include_colab_link": true
    },
    "kernelspec": {
      "name": "python3",
      "display_name": "Python 3"
    },
    "language_info": {
      "name": "python"
    }
  },
  "cells": [
    {
      "cell_type": "markdown",
      "metadata": {
        "id": "view-in-github",
        "colab_type": "text"
      },
      "source": [
        "<a href=\"https://colab.research.google.com/github/deepak-dewani/Python-for-everybody/blob/main/Object_oriented_programming.ipynb\" target=\"_parent\"><img src=\"https://colab.research.google.com/assets/colab-badge.svg\" alt=\"Open In Colab\"/></a>"
      ]
    },
    {
      "cell_type": "markdown",
      "source": [
        "# **Chapter - Python for Everybody**\n",
        "# **Object-oriented programming**\n",
        "Like many aspects of programming, it is necessary to learn the concepts of object oriented programming before you can use them effectively. You should approach this chapter as a way to learn some terms and concepts and work through a few simple examples to lay a foundation for future learning.\n",
        "\n",
        "The key outcome of this chapter is to have a basic understanding of how objects are constructed and how they function and most importantly how we make use of the capabilities of objects that are provided to us by Python and Python libraries."
      ],
      "metadata": {
        "id": "nOUChco2baVS"
      }
    },
    {
      "cell_type": "markdown",
      "source": [
        "# **Our first Python object**"
      ],
      "metadata": {
        "id": "0M-nqWGHb2_g"
      }
    },
    {
      "cell_type": "code",
      "execution_count": null,
      "metadata": {
        "colab": {
          "base_uri": "https://localhost:8080/"
        },
        "id": "dss5fO9sbXlM",
        "outputId": "ac861d86-756c-4815-d5e9-1c7f6f129ace"
      },
      "outputs": [
        {
          "output_type": "stream",
          "name": "stdout",
          "text": [
            "So far 1\n",
            "So far 2\n",
            "So far 3\n",
            "So far 4\n"
          ]
        }
      ],
      "source": [
        "class PartyAnimal:\n",
        "   x = 0\n",
        "\n",
        "   def party(self) :\n",
        "     self.x = self.x + 1\n",
        "     print(\"So far\",self.x)\n",
        "\n",
        "an = PartyAnimal()\n",
        "an.party()\n",
        "an.party()\n",
        "an.party()\n",
        "PartyAnimal.party(an)\n"
      ]
    },
    {
      "cell_type": "markdown",
      "source": [
        "# **Classes as types**"
      ],
      "metadata": {
        "id": "4fU_lD_IcFaC"
      }
    },
    {
      "cell_type": "code",
      "source": [
        "class PartyAnimal:\n",
        "   x = 0\n",
        "\n",
        "   def party(self) :\n",
        "     self.x = self.x + 1\n",
        "     print(\"So far\",self.x)\n",
        "\n",
        "an = PartyAnimal()\n",
        "print (\"Type\", type(an))\n",
        "print (\"Dir \", dir(an))\n",
        "print (\"Type\", type(an.x))\n",
        "print (\"Type\", type(an.party))"
      ],
      "metadata": {
        "colab": {
          "base_uri": "https://localhost:8080/"
        },
        "id": "Cy653M7Lb8xN",
        "outputId": "2f4cb73e-c91e-4ab3-b46f-194934f4b7af"
      },
      "execution_count": null,
      "outputs": [
        {
          "output_type": "stream",
          "name": "stdout",
          "text": [
            "Type <class '__main__.PartyAnimal'>\n",
            "Dir  ['__class__', '__delattr__', '__dict__', '__dir__', '__doc__', '__eq__', '__format__', '__ge__', '__getattribute__', '__gt__', '__hash__', '__init__', '__init_subclass__', '__le__', '__lt__', '__module__', '__ne__', '__new__', '__reduce__', '__reduce_ex__', '__repr__', '__setattr__', '__sizeof__', '__str__', '__subclasshook__', '__weakref__', 'party', 'x']\n",
            "Type <class 'int'>\n",
            "Type <class 'method'>\n"
          ]
        }
      ]
    },
    {
      "cell_type": "code",
      "source": [
        "class PartyAnimal:\n",
        "   x = 0\n",
        "\n",
        "   def __init__(self):\n",
        "     print('I am constructed')\n",
        "\n",
        "   def party(self) :\n",
        "     self.x = self.x + 1\n",
        "     print('So far',self.x)\n",
        "\n",
        "   def __del__(self):\n",
        "     print('I am destructed', self.x)\n",
        "\n",
        "an = PartyAnimal()\n",
        "an.party()\n",
        "an.party()\n",
        "an = 42\n",
        "print('an contains',an)"
      ],
      "metadata": {
        "colab": {
          "base_uri": "https://localhost:8080/"
        },
        "id": "Xh6lBp5-cJnT",
        "outputId": "15c5ce57-02e6-4109-a410-cd60761b414b"
      },
      "execution_count": null,
      "outputs": [
        {
          "output_type": "stream",
          "name": "stdout",
          "text": [
            "I am constructed\n",
            "So far 1\n",
            "So far 2\n",
            "I am destructed 2\n",
            "an contains 42\n"
          ]
        }
      ]
    },
    {
      "cell_type": "markdown",
      "source": [
        "# **Multiple instances**"
      ],
      "metadata": {
        "id": "-P8ry5yQcU3L"
      }
    },
    {
      "cell_type": "code",
      "source": [
        "class PartyAnimal:\n",
        "   x = 0\n",
        "   name = ''\n",
        "   def __init__(self, nam):\n",
        "     self.name = nam\n",
        "     print(self.name,'constructed')\n",
        "\n",
        "   def party(self) :\n",
        "     self.x = self.x + 1\n",
        "     print(self.name,'party count',self.x)\n",
        "\n",
        "s = PartyAnimal('Sally')\n",
        "j = PartyAnimal('Jim')\n",
        "\n",
        "s.party()\n",
        "j.party()\n",
        "s.party()"
      ],
      "metadata": {
        "colab": {
          "base_uri": "https://localhost:8080/"
        },
        "id": "BmqCymG0cP7B",
        "outputId": "06f48698-2dd7-4a83-ce93-c5b8184e1ffe"
      },
      "execution_count": null,
      "outputs": [
        {
          "output_type": "stream",
          "name": "stdout",
          "text": [
            "Sally constructed\n",
            "Jim constructed\n",
            "Sally party count 1\n",
            "Jim party count 1\n",
            "Sally party count 2\n"
          ]
        }
      ]
    },
    {
      "cell_type": "markdown",
      "source": [
        "# **Inheritance**\n",
        "Another powerful feature of object-oriented programming is the ability to create a new class by extending an existing class. When extending a class, we call the original class the parent class and the new class the child class."
      ],
      "metadata": {
        "id": "2kXbFm5ecfP1"
      }
    },
    {
      "cell_type": "code",
      "source": [
        "\n",
        "class CricketFan(PartyAnimal):\n",
        "   points = 0\n",
        "   def six(self):\n",
        "      self.points = self.points + 6\n",
        "      self.party()\n",
        "      print(self.name,\"points\",self.points)\n",
        "\n",
        "s = PartyAnimal(\"Sally\")\n",
        "s.party()\n",
        "j = CricketFan(\"Jim\")\n",
        "j.party()\n",
        "j.six()\n",
        "print(dir(j))"
      ],
      "metadata": {
        "colab": {
          "base_uri": "https://localhost:8080/"
        },
        "id": "uDLb9su1caBg",
        "outputId": "e075c214-2a20-429c-dcb5-4c49a6015e54"
      },
      "execution_count": null,
      "outputs": [
        {
          "output_type": "stream",
          "name": "stdout",
          "text": [
            "Sally constructed\n",
            "Sally party count 1\n",
            "Jim constructed\n",
            "Jim party count 1\n",
            "Jim party count 2\n",
            "Jim points 6\n",
            "['__class__', '__delattr__', '__dict__', '__dir__', '__doc__', '__eq__', '__format__', '__ge__', '__getattribute__', '__gt__', '__hash__', '__init__', '__init_subclass__', '__le__', '__lt__', '__module__', '__ne__', '__new__', '__reduce__', '__reduce_ex__', '__repr__', '__setattr__', '__sizeof__', '__str__', '__subclasshook__', '__weakref__', 'name', 'party', 'points', 'six', 'x']\n"
          ]
        }
      ]
    }
  ]
}